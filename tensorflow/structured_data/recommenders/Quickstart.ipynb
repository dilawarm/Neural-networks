{
  "nbformat": 4,
  "nbformat_minor": 0,
  "metadata": {
    "colab": {
      "name": "Quickstart.ipynb",
      "provenance": []
    },
    "kernelspec": {
      "display_name": "Python 3",
      "name": "python3"
    },
    "language_info": {
      "name": "python"
    }
  },
  "cells": [
    {
      "cell_type": "markdown",
      "metadata": {
        "id": "158eCHdEoLkt"
      },
      "source": [
        "# TensorFlow Recommenders: Quickstart"
      ]
    },
    {
      "cell_type": "markdown",
      "metadata": {
        "id": "KMuIXIpRoTS5"
      },
      "source": [
        "## Import TFRS"
      ]
    },
    {
      "cell_type": "code",
      "metadata": {
        "id": "htjQoo0UoGiM"
      },
      "source": [
        "!pip3 install -q tensorflow-recommenders\n",
        "!pip3 install -q --upgrade tensorflow-datasets"
      ],
      "execution_count": 1,
      "outputs": []
    },
    {
      "cell_type": "code",
      "metadata": {
        "id": "HwyN9_bxoaFO"
      },
      "source": [
        "from typing import Dict, Text\n",
        "\n",
        "import numpy as np\n",
        "import tensorflow as tf\n",
        "\n",
        "import tensorflow_datasets as tfds\n",
        "import tensorflow_recommenders as tfrs"
      ],
      "execution_count": 2,
      "outputs": []
    },
    {
      "cell_type": "markdown",
      "metadata": {
        "id": "m9H8E-jDo3u6"
      },
      "source": [
        "## Read the data"
      ]
    },
    {
      "cell_type": "code",
      "metadata": {
        "id": "D9CBArk1o2_N"
      },
      "source": [
        "ratings = tfds.load(\"movielens/100k-ratings\", split=\"train\")\n",
        "\n",
        "movies = tfds.load(\"movielens/100k-movies\", split=\"train\")\n",
        "\n",
        "ratings = ratings.map(lambda x: {\n",
        "    \"movie_title\": x[\"movie_title\"],\n",
        "    \"user_id\": x[\"user_id\"]\n",
        "})\n",
        "movies = movies.map(lambda x: x[\"movie_title\"])"
      ],
      "execution_count": 3,
      "outputs": []
    },
    {
      "cell_type": "code",
      "metadata": {
        "id": "bcpdy9MEpK6d"
      },
      "source": [
        "user_ids_vocabulary = tf.keras.layers.experimental.preprocessing.StringLookup(mask_token=None)\n",
        "user_ids_vocabulary.adapt(ratings.map(lambda x: x[\"user_id\"]))\n",
        "\n",
        "movie_titles_vocabulary = tf.keras.layers.experimental.preprocessing.StringLookup(mask_token=None)\n",
        "movie_titles_vocabulary.adapt(movies)"
      ],
      "execution_count": 5,
      "outputs": []
    },
    {
      "cell_type": "markdown",
      "metadata": {
        "id": "pee_WkrSrIRI"
      },
      "source": [
        "## Define a model"
      ]
    },
    {
      "cell_type": "code",
      "metadata": {
        "id": "4awlim5GqseJ"
      },
      "source": [
        "class MovieLensModel(tfrs.Model):\n",
        "\n",
        "  def __init__(self,\n",
        "               user_model: tf.keras.Model,\n",
        "               movie_model: tf.keras.Model,\n",
        "               task: tfrs.tasks.Retrieval):\n",
        "    super().__init__()\n",
        "  \n",
        "    self.user_model = user_model\n",
        "    self.movie_model = movie_model\n",
        "\n",
        "    self.task = task\n",
        "\n",
        "  def compute_loss(self, features: Dict[Text, tf.Tensor], training=False) -> tf.Tensor:\n",
        "\n",
        "    user_embeddings = self.user_model(features[\"user_id\"])\n",
        "    movie_embeddings = self.movie_model(features[\"movie_title\"])\n",
        "\n",
        "    return self.task(user_embeddings, movie_embeddings)"
      ],
      "execution_count": 6,
      "outputs": []
    },
    {
      "cell_type": "code",
      "metadata": {
        "id": "sSZA_HXar3pt"
      },
      "source": [
        "user_model = tf.keras.Sequential([\n",
        "    user_ids_vocabulary,\n",
        "    tf.keras.layers.Embedding(user_ids_vocabulary.vocab_size(), 64)                                  \n",
        "])\n",
        "movie_model = tf.keras.Sequential([\n",
        "    movie_titles_vocabulary,\n",
        "    tf.keras.layers.Embedding(movie_titles_vocabulary.vocab_size(), 64)                                   \n",
        "])\n",
        "\n",
        "task = tfrs.tasks.Retrieval(metrics=tfrs.metrics.FactorizedTopK(\n",
        "    movies.batch(128).map(movie_model)\n",
        "))"
      ],
      "execution_count": 8,
      "outputs": []
    },
    {
      "cell_type": "markdown",
      "metadata": {
        "id": "oQGIYQA7slio"
      },
      "source": [
        "## Fit and evaluate it."
      ]
    },
    {
      "cell_type": "code",
      "metadata": {
        "colab": {
          "base_uri": "https://localhost:8080/"
        },
        "id": "SA32e6-8sjIT",
        "outputId": "deb0d3ae-38f6-4694-f9a8-19362fd9715a"
      },
      "source": [
        "model = MovieLensModel(user_model, movie_model, task)\n",
        "model.compile(optimizer=tf.keras.optimizers.Adagrad(0.5))\n",
        "\n",
        "model.fit(ratings.batch(4096), epochs=3)\n",
        "\n",
        "index = tfrs.layers.factorized_top_k.BruteForce(model.user_model)\n",
        "index.index(movies.batch(100).map(model.movie_model), movies)\n",
        "\n",
        "_, titles = index(np.array([\"42\"]))\n",
        "print(f\"Top 3 recommendations for user 42: {titles[0, :3]}\")"
      ],
      "execution_count": 10,
      "outputs": [
        {
          "output_type": "stream",
          "text": [
            "Epoch 1/3\n",
            "25/25 [==============================] - 29s 1s/step - factorized_top_k/top_1_categorical_accuracy: 2.6000e-04 - factorized_top_k/top_5_categorical_accuracy: 0.0042 - factorized_top_k/top_10_categorical_accuracy: 0.0102 - factorized_top_k/top_50_categorical_accuracy: 0.0725 - factorized_top_k/top_100_categorical_accuracy: 0.1557 - loss: 33246.6996 - regularization_loss: 0.0000e+00 - total_loss: 33246.6996\n",
            "Epoch 2/3\n",
            "25/25 [==============================] - 28s 1s/step - factorized_top_k/top_1_categorical_accuracy: 5.6000e-04 - factorized_top_k/top_5_categorical_accuracy: 0.0079 - factorized_top_k/top_10_categorical_accuracy: 0.0206 - factorized_top_k/top_50_categorical_accuracy: 0.1358 - factorized_top_k/top_100_categorical_accuracy: 0.2572 - loss: 30590.3354 - regularization_loss: 0.0000e+00 - total_loss: 30590.3354\n",
            "Epoch 3/3\n",
            "25/25 [==============================] - 28s 1s/step - factorized_top_k/top_1_categorical_accuracy: 5.7000e-04 - factorized_top_k/top_5_categorical_accuracy: 0.0103 - factorized_top_k/top_10_categorical_accuracy: 0.0274 - factorized_top_k/top_50_categorical_accuracy: 0.1729 - factorized_top_k/top_100_categorical_accuracy: 0.3098 - loss: 30141.6088 - regularization_loss: 0.0000e+00 - total_loss: 30141.6088\n",
            "Top 3 recommendations for user 42: [b'Just Cause (1995)' b'House Arrest (1996)' b'Rent-a-Kid (1995)']\n"
          ],
          "name": "stdout"
        }
      ]
    }
  ]
}