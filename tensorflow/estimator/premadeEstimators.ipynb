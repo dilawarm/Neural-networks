{
  "nbformat": 4,
  "nbformat_minor": 0,
  "metadata": {
    "colab": {
      "name": "premadeEstimators.ipynb",
      "provenance": [],
      "authorship_tag": "ABX9TyObCxL9uKcgCLXlPYZMPZnB"
    },
    "kernelspec": {
      "name": "python3",
      "display_name": "Python 3"
    },
    "accelerator": "GPU"
  },
  "cells": [
    {
      "cell_type": "code",
      "metadata": {
        "id": "ihhPDUBP_Zka",
        "colab_type": "code",
        "colab": {}
      },
      "source": [
        "import tensorflow as tf\n",
        "import pandas as pd"
      ],
      "execution_count": 1,
      "outputs": []
    },
    {
      "cell_type": "code",
      "metadata": {
        "id": "TKZXF5aR_ucy",
        "colab_type": "code",
        "colab": {}
      },
      "source": [
        "CSV_COLUMN_NAMES = ['SepalLength', 'SepalWidth', 'PetalLength', 'PetalWidth', 'Species']\n",
        "SPECIES = ['Setosa', 'Versicolor', 'Virginica']"
      ],
      "execution_count": 2,
      "outputs": []
    },
    {
      "cell_type": "code",
      "metadata": {
        "id": "Ep8LfrAL_3oh",
        "colab_type": "code",
        "colab": {
          "base_uri": "https://localhost:8080/",
          "height": 105
        },
        "outputId": "03fb827b-4566-4eba-f55c-8310bc8b0af9"
      },
      "source": [
        "train_path = tf.keras.utils.get_file(\n",
        "    \"iris_training.csv\", \"https://storage.googleapis.com/download.tensorflow.org/data/iris_training.csv\")\n",
        "test_path = tf.keras.utils.get_file(\n",
        "    \"iris_test.csv\", \"https://storage.googleapis.com/download.tensorflow.org/data/iris_test.csv\")\n",
        "\n",
        "train = pd.read_csv(train_path, names=CSV_COLUMN_NAMES, header=0)\n",
        "test = pd.read_csv(test_path, names=CSV_COLUMN_NAMES, header=0)"
      ],
      "execution_count": 3,
      "outputs": [
        {
          "output_type": "stream",
          "text": [
            "Downloading data from https://storage.googleapis.com/download.tensorflow.org/data/iris_training.csv\n",
            "\r8192/2194 [================================================================================================================] - 0s 0us/step\n",
            "Downloading data from https://storage.googleapis.com/download.tensorflow.org/data/iris_test.csv\n",
            "8192/573 [============================================================================================================================================================================================================================================================================================================================================================================================================================================] - 0s 0us/step\n"
          ],
          "name": "stdout"
        }
      ]
    },
    {
      "cell_type": "code",
      "metadata": {
        "id": "f8ymVD_RAEYj",
        "colab_type": "code",
        "colab": {
          "base_uri": "https://localhost:8080/",
          "height": 200
        },
        "outputId": "f159eb7d-7fbe-4330-f6c8-bc1c4fed3a5a"
      },
      "source": [
        "train.head()"
      ],
      "execution_count": 4,
      "outputs": [
        {
          "output_type": "execute_result",
          "data": {
            "text/html": [
              "<div>\n",
              "<style scoped>\n",
              "    .dataframe tbody tr th:only-of-type {\n",
              "        vertical-align: middle;\n",
              "    }\n",
              "\n",
              "    .dataframe tbody tr th {\n",
              "        vertical-align: top;\n",
              "    }\n",
              "\n",
              "    .dataframe thead th {\n",
              "        text-align: right;\n",
              "    }\n",
              "</style>\n",
              "<table border=\"1\" class=\"dataframe\">\n",
              "  <thead>\n",
              "    <tr style=\"text-align: right;\">\n",
              "      <th></th>\n",
              "      <th>SepalLength</th>\n",
              "      <th>SepalWidth</th>\n",
              "      <th>PetalLength</th>\n",
              "      <th>PetalWidth</th>\n",
              "      <th>Species</th>\n",
              "    </tr>\n",
              "  </thead>\n",
              "  <tbody>\n",
              "    <tr>\n",
              "      <th>0</th>\n",
              "      <td>6.4</td>\n",
              "      <td>2.8</td>\n",
              "      <td>5.6</td>\n",
              "      <td>2.2</td>\n",
              "      <td>2</td>\n",
              "    </tr>\n",
              "    <tr>\n",
              "      <th>1</th>\n",
              "      <td>5.0</td>\n",
              "      <td>2.3</td>\n",
              "      <td>3.3</td>\n",
              "      <td>1.0</td>\n",
              "      <td>1</td>\n",
              "    </tr>\n",
              "    <tr>\n",
              "      <th>2</th>\n",
              "      <td>4.9</td>\n",
              "      <td>2.5</td>\n",
              "      <td>4.5</td>\n",
              "      <td>1.7</td>\n",
              "      <td>2</td>\n",
              "    </tr>\n",
              "    <tr>\n",
              "      <th>3</th>\n",
              "      <td>4.9</td>\n",
              "      <td>3.1</td>\n",
              "      <td>1.5</td>\n",
              "      <td>0.1</td>\n",
              "      <td>0</td>\n",
              "    </tr>\n",
              "    <tr>\n",
              "      <th>4</th>\n",
              "      <td>5.7</td>\n",
              "      <td>3.8</td>\n",
              "      <td>1.7</td>\n",
              "      <td>0.3</td>\n",
              "      <td>0</td>\n",
              "    </tr>\n",
              "  </tbody>\n",
              "</table>\n",
              "</div>"
            ],
            "text/plain": [
              "   SepalLength  SepalWidth  PetalLength  PetalWidth  Species\n",
              "0          6.4         2.8          5.6         2.2        2\n",
              "1          5.0         2.3          3.3         1.0        1\n",
              "2          4.9         2.5          4.5         1.7        2\n",
              "3          4.9         3.1          1.5         0.1        0\n",
              "4          5.7         3.8          1.7         0.3        0"
            ]
          },
          "metadata": {
            "tags": []
          },
          "execution_count": 4
        }
      ]
    },
    {
      "cell_type": "code",
      "metadata": {
        "id": "UPw-9cygAGQt",
        "colab_type": "code",
        "colab": {
          "base_uri": "https://localhost:8080/",
          "height": 200
        },
        "outputId": "400dc201-8a0f-4050-9b5c-e67670662ea8"
      },
      "source": [
        "train_y = train.pop('Species')\n",
        "test_y = test.pop('Species')\n",
        "\n",
        "train.head()"
      ],
      "execution_count": 5,
      "outputs": [
        {
          "output_type": "execute_result",
          "data": {
            "text/html": [
              "<div>\n",
              "<style scoped>\n",
              "    .dataframe tbody tr th:only-of-type {\n",
              "        vertical-align: middle;\n",
              "    }\n",
              "\n",
              "    .dataframe tbody tr th {\n",
              "        vertical-align: top;\n",
              "    }\n",
              "\n",
              "    .dataframe thead th {\n",
              "        text-align: right;\n",
              "    }\n",
              "</style>\n",
              "<table border=\"1\" class=\"dataframe\">\n",
              "  <thead>\n",
              "    <tr style=\"text-align: right;\">\n",
              "      <th></th>\n",
              "      <th>SepalLength</th>\n",
              "      <th>SepalWidth</th>\n",
              "      <th>PetalLength</th>\n",
              "      <th>PetalWidth</th>\n",
              "    </tr>\n",
              "  </thead>\n",
              "  <tbody>\n",
              "    <tr>\n",
              "      <th>0</th>\n",
              "      <td>6.4</td>\n",
              "      <td>2.8</td>\n",
              "      <td>5.6</td>\n",
              "      <td>2.2</td>\n",
              "    </tr>\n",
              "    <tr>\n",
              "      <th>1</th>\n",
              "      <td>5.0</td>\n",
              "      <td>2.3</td>\n",
              "      <td>3.3</td>\n",
              "      <td>1.0</td>\n",
              "    </tr>\n",
              "    <tr>\n",
              "      <th>2</th>\n",
              "      <td>4.9</td>\n",
              "      <td>2.5</td>\n",
              "      <td>4.5</td>\n",
              "      <td>1.7</td>\n",
              "    </tr>\n",
              "    <tr>\n",
              "      <th>3</th>\n",
              "      <td>4.9</td>\n",
              "      <td>3.1</td>\n",
              "      <td>1.5</td>\n",
              "      <td>0.1</td>\n",
              "    </tr>\n",
              "    <tr>\n",
              "      <th>4</th>\n",
              "      <td>5.7</td>\n",
              "      <td>3.8</td>\n",
              "      <td>1.7</td>\n",
              "      <td>0.3</td>\n",
              "    </tr>\n",
              "  </tbody>\n",
              "</table>\n",
              "</div>"
            ],
            "text/plain": [
              "   SepalLength  SepalWidth  PetalLength  PetalWidth\n",
              "0          6.4         2.8          5.6         2.2\n",
              "1          5.0         2.3          3.3         1.0\n",
              "2          4.9         2.5          4.5         1.7\n",
              "3          4.9         3.1          1.5         0.1\n",
              "4          5.7         3.8          1.7         0.3"
            ]
          },
          "metadata": {
            "tags": []
          },
          "execution_count": 5
        }
      ]
    },
    {
      "cell_type": "code",
      "metadata": {
        "id": "vm3DrUf3AM_K",
        "colab_type": "code",
        "colab": {}
      },
      "source": [
        "def input_evaluation_set():\n",
        "  features = {'SepalLength': np.array([6.4, 5.0]),\n",
        "              'SepalWidth':  np.array([2.8, 2.3]),\n",
        "              'PetalLength': np.array([5.6, 3.3]),\n",
        "              'PetalWidth':  np.array([2.2, 1.0])}\n",
        "  labels = np.array([2, 1])\n",
        "  return features, labels"
      ],
      "execution_count": 6,
      "outputs": []
    },
    {
      "cell_type": "code",
      "metadata": {
        "id": "nUu0O9nDAq4J",
        "colab_type": "code",
        "colab": {}
      },
      "source": [
        "def input_fn(features, labels, training=True, batch_size=256):\n",
        "  dataset = tf.data.Dataset.from_tensor_slices((dict(features), labels))\n",
        "\n",
        "  if training:\n",
        "    dataset = dataset.shuffle(1000).repeat()\n",
        "  \n",
        "  return dataset.batch(batch_size)"
      ],
      "execution_count": 7,
      "outputs": []
    },
    {
      "cell_type": "code",
      "metadata": {
        "id": "qHw9v-PpBAvP",
        "colab_type": "code",
        "colab": {}
      },
      "source": [
        "my_feature_columns = []\n",
        "for key in train.keys():\n",
        "  my_feature_columns.append(tf.feature_column.numeric_column(key=key))"
      ],
      "execution_count": 8,
      "outputs": []
    },
    {
      "cell_type": "code",
      "metadata": {
        "id": "M4cIeBXABpIZ",
        "colab_type": "code",
        "colab": {
          "base_uri": "https://localhost:8080/",
          "height": 191
        },
        "outputId": "ebd31812-ed85-4a90-dd15-06683086a14d"
      },
      "source": [
        "classifier = tf.estimator.DNNClassifier(\n",
        "    feature_columns=my_feature_columns,\n",
        "    hidden_units=[30, 10],\n",
        "    n_classes=3)"
      ],
      "execution_count": 9,
      "outputs": [
        {
          "output_type": "stream",
          "text": [
            "INFO:tensorflow:Using default config.\n",
            "WARNING:tensorflow:Using temporary folder as model directory: /tmp/tmphhfvcwm8\n",
            "INFO:tensorflow:Using config: {'_model_dir': '/tmp/tmphhfvcwm8', '_tf_random_seed': None, '_save_summary_steps': 100, '_save_checkpoints_steps': None, '_save_checkpoints_secs': 600, '_session_config': allow_soft_placement: true\n",
            "graph_options {\n",
            "  rewrite_options {\n",
            "    meta_optimizer_iterations: ONE\n",
            "  }\n",
            "}\n",
            ", '_keep_checkpoint_max': 5, '_keep_checkpoint_every_n_hours': 10000, '_log_step_count_steps': 100, '_train_distribute': None, '_device_fn': None, '_protocol': None, '_eval_distribute': None, '_experimental_distribute': None, '_experimental_max_worker_delay_secs': None, '_session_creation_timeout_secs': 7200, '_service': None, '_cluster_spec': ClusterSpec({}), '_task_type': 'worker', '_task_id': 0, '_global_id_in_cluster': 0, '_master': '', '_evaluation_master': '', '_is_chief': True, '_num_ps_replicas': 0, '_num_worker_replicas': 1}\n"
          ],
          "name": "stdout"
        }
      ]
    },
    {
      "cell_type": "code",
      "metadata": {
        "id": "2Z1Nwb3nB4yc",
        "colab_type": "code",
        "colab": {
          "base_uri": "https://localhost:8080/",
          "height": 1000
        },
        "outputId": "a7ba3b29-ec28-411e-cb1c-c8555cf1ea58"
      },
      "source": [
        "classifier.train(\n",
        "    input_fn=lambda: input_fn(train, train_y, training=True),\n",
        "    steps=5000)"
      ],
      "execution_count": 10,
      "outputs": [
        {
          "output_type": "stream",
          "text": [
            "WARNING:tensorflow:From /usr/local/lib/python3.6/dist-packages/tensorflow/python/ops/resource_variable_ops.py:1666: calling BaseResourceVariable.__init__ (from tensorflow.python.ops.resource_variable_ops) with constraint is deprecated and will be removed in a future version.\n",
            "Instructions for updating:\n",
            "If using Keras pass *_constraint arguments to layers.\n",
            "WARNING:tensorflow:From /usr/local/lib/python3.6/dist-packages/tensorflow/python/training/training_util.py:236: Variable.initialized_value (from tensorflow.python.ops.variables) is deprecated and will be removed in a future version.\n",
            "Instructions for updating:\n",
            "Use Variable.read_value. Variables in 2.X are initialized automatically both in eager and graph (inside tf.defun) contexts.\n",
            "INFO:tensorflow:Calling model_fn.\n",
            "WARNING:tensorflow:Layer dnn is casting an input tensor from dtype float64 to the layer's dtype of float32, which is new behavior in TensorFlow 2.  The layer has dtype float32 because it's dtype defaults to floatx.\n",
            "\n",
            "If you intended to run this layer in float32, you can safely ignore this warning. If in doubt, this warning is likely only an issue if you are porting a TensorFlow 1.X model to TensorFlow 2.\n",
            "\n",
            "To change all layers to have dtype float64 by default, call `tf.keras.backend.set_floatx('float64')`. To change just this layer, pass dtype='float64' to the layer constructor. If you are the author of this layer, you can disable autocasting by passing autocast=False to the base Layer constructor.\n",
            "\n",
            "WARNING:tensorflow:From /usr/local/lib/python3.6/dist-packages/tensorflow/python/keras/optimizer_v2/adagrad.py:106: calling Constant.__init__ (from tensorflow.python.ops.init_ops) with dtype is deprecated and will be removed in a future version.\n",
            "Instructions for updating:\n",
            "Call initializer instance with the dtype argument instead of passing it to the constructor\n",
            "INFO:tensorflow:Done calling model_fn.\n",
            "INFO:tensorflow:Create CheckpointSaverHook.\n",
            "INFO:tensorflow:Graph was finalized.\n",
            "INFO:tensorflow:Running local_init_op.\n",
            "INFO:tensorflow:Done running local_init_op.\n",
            "INFO:tensorflow:Calling checkpoint listeners before saving checkpoint 0...\n",
            "INFO:tensorflow:Saving checkpoints for 0 into /tmp/tmphhfvcwm8/model.ckpt.\n",
            "INFO:tensorflow:Calling checkpoint listeners after saving checkpoint 0...\n",
            "INFO:tensorflow:loss = 2.1260254, step = 0\n",
            "INFO:tensorflow:global_step/sec: 384.829\n",
            "INFO:tensorflow:loss = 1.3807117, step = 100 (0.261 sec)\n",
            "INFO:tensorflow:global_step/sec: 443.187\n",
            "INFO:tensorflow:loss = 1.2358811, step = 200 (0.226 sec)\n",
            "INFO:tensorflow:global_step/sec: 449.616\n",
            "INFO:tensorflow:loss = 1.1161667, step = 300 (0.223 sec)\n",
            "INFO:tensorflow:global_step/sec: 473.001\n",
            "INFO:tensorflow:loss = 1.0376166, step = 400 (0.212 sec)\n",
            "INFO:tensorflow:global_step/sec: 458.902\n",
            "INFO:tensorflow:loss = 0.9934958, step = 500 (0.216 sec)\n",
            "INFO:tensorflow:global_step/sec: 456.562\n",
            "INFO:tensorflow:loss = 0.9567419, step = 600 (0.221 sec)\n",
            "INFO:tensorflow:global_step/sec: 473.184\n",
            "INFO:tensorflow:loss = 0.92174476, step = 700 (0.210 sec)\n",
            "INFO:tensorflow:global_step/sec: 457.614\n",
            "INFO:tensorflow:loss = 0.8931539, step = 800 (0.219 sec)\n",
            "INFO:tensorflow:global_step/sec: 446.79\n",
            "INFO:tensorflow:loss = 0.87584746, step = 900 (0.226 sec)\n",
            "INFO:tensorflow:global_step/sec: 471.27\n",
            "INFO:tensorflow:loss = 0.85845566, step = 1000 (0.212 sec)\n",
            "INFO:tensorflow:global_step/sec: 441.541\n",
            "INFO:tensorflow:loss = 0.8431308, step = 1100 (0.226 sec)\n",
            "INFO:tensorflow:global_step/sec: 442.355\n",
            "INFO:tensorflow:loss = 0.83041704, step = 1200 (0.226 sec)\n",
            "INFO:tensorflow:global_step/sec: 451.605\n",
            "INFO:tensorflow:loss = 0.8195054, step = 1300 (0.219 sec)\n",
            "INFO:tensorflow:global_step/sec: 474.002\n",
            "INFO:tensorflow:loss = 0.8038839, step = 1400 (0.213 sec)\n",
            "INFO:tensorflow:global_step/sec: 455.415\n",
            "INFO:tensorflow:loss = 0.788555, step = 1500 (0.218 sec)\n",
            "INFO:tensorflow:global_step/sec: 465.461\n",
            "INFO:tensorflow:loss = 0.78303397, step = 1600 (0.217 sec)\n",
            "INFO:tensorflow:global_step/sec: 436.549\n",
            "INFO:tensorflow:loss = 0.76314825, step = 1700 (0.229 sec)\n",
            "INFO:tensorflow:global_step/sec: 474.285\n",
            "INFO:tensorflow:loss = 0.7553205, step = 1800 (0.211 sec)\n",
            "INFO:tensorflow:global_step/sec: 465.679\n",
            "INFO:tensorflow:loss = 0.7455202, step = 1900 (0.214 sec)\n",
            "INFO:tensorflow:global_step/sec: 419.595\n",
            "INFO:tensorflow:loss = 0.7289865, step = 2000 (0.237 sec)\n",
            "INFO:tensorflow:global_step/sec: 476.699\n",
            "INFO:tensorflow:loss = 0.7297469, step = 2100 (0.211 sec)\n",
            "INFO:tensorflow:global_step/sec: 467.031\n",
            "INFO:tensorflow:loss = 0.71940804, step = 2200 (0.214 sec)\n",
            "INFO:tensorflow:global_step/sec: 451.306\n",
            "INFO:tensorflow:loss = 0.7107651, step = 2300 (0.221 sec)\n",
            "INFO:tensorflow:global_step/sec: 469.135\n",
            "INFO:tensorflow:loss = 0.7051746, step = 2400 (0.214 sec)\n",
            "INFO:tensorflow:global_step/sec: 456.45\n",
            "INFO:tensorflow:loss = 0.698912, step = 2500 (0.219 sec)\n",
            "INFO:tensorflow:global_step/sec: 471.752\n",
            "INFO:tensorflow:loss = 0.6856197, step = 2600 (0.212 sec)\n",
            "INFO:tensorflow:global_step/sec: 471.545\n",
            "INFO:tensorflow:loss = 0.6795683, step = 2700 (0.212 sec)\n",
            "INFO:tensorflow:global_step/sec: 472.975\n",
            "INFO:tensorflow:loss = 0.6738272, step = 2800 (0.213 sec)\n",
            "INFO:tensorflow:global_step/sec: 421.269\n",
            "INFO:tensorflow:loss = 0.663591, step = 2900 (0.235 sec)\n",
            "INFO:tensorflow:global_step/sec: 470.196\n",
            "INFO:tensorflow:loss = 0.65775084, step = 3000 (0.213 sec)\n",
            "INFO:tensorflow:global_step/sec: 466.61\n",
            "INFO:tensorflow:loss = 0.6551362, step = 3100 (0.212 sec)\n",
            "INFO:tensorflow:global_step/sec: 467.934\n",
            "INFO:tensorflow:loss = 0.64922297, step = 3200 (0.214 sec)\n",
            "INFO:tensorflow:global_step/sec: 479.024\n",
            "INFO:tensorflow:loss = 0.64014554, step = 3300 (0.210 sec)\n",
            "INFO:tensorflow:global_step/sec: 457.617\n",
            "INFO:tensorflow:loss = 0.63307005, step = 3400 (0.217 sec)\n",
            "INFO:tensorflow:global_step/sec: 469.005\n",
            "INFO:tensorflow:loss = 0.6264975, step = 3500 (0.215 sec)\n",
            "INFO:tensorflow:global_step/sec: 458.862\n",
            "INFO:tensorflow:loss = 0.6176442, step = 3600 (0.218 sec)\n",
            "INFO:tensorflow:global_step/sec: 471.694\n",
            "INFO:tensorflow:loss = 0.6152708, step = 3700 (0.212 sec)\n",
            "INFO:tensorflow:global_step/sec: 469.029\n",
            "INFO:tensorflow:loss = 0.6055188, step = 3800 (0.213 sec)\n",
            "INFO:tensorflow:global_step/sec: 419.278\n",
            "INFO:tensorflow:loss = 0.6037884, step = 3900 (0.238 sec)\n",
            "INFO:tensorflow:global_step/sec: 456.141\n",
            "INFO:tensorflow:loss = 0.5972503, step = 4000 (0.218 sec)\n",
            "INFO:tensorflow:global_step/sec: 469.177\n",
            "INFO:tensorflow:loss = 0.5948651, step = 4100 (0.214 sec)\n",
            "INFO:tensorflow:global_step/sec: 472.004\n",
            "INFO:tensorflow:loss = 0.5838813, step = 4200 (0.211 sec)\n",
            "INFO:tensorflow:global_step/sec: 480.856\n",
            "INFO:tensorflow:loss = 0.5733223, step = 4300 (0.208 sec)\n",
            "INFO:tensorflow:global_step/sec: 454.316\n",
            "INFO:tensorflow:loss = 0.5760026, step = 4400 (0.220 sec)\n",
            "INFO:tensorflow:global_step/sec: 460.533\n",
            "INFO:tensorflow:loss = 0.5729551, step = 4500 (0.219 sec)\n",
            "INFO:tensorflow:global_step/sec: 476.674\n",
            "INFO:tensorflow:loss = 0.55358505, step = 4600 (0.208 sec)\n",
            "INFO:tensorflow:global_step/sec: 461.09\n",
            "INFO:tensorflow:loss = 0.5528552, step = 4700 (0.218 sec)\n",
            "INFO:tensorflow:global_step/sec: 453.254\n",
            "INFO:tensorflow:loss = 0.5558371, step = 4800 (0.219 sec)\n",
            "INFO:tensorflow:global_step/sec: 482.974\n",
            "INFO:tensorflow:loss = 0.5473983, step = 4900 (0.209 sec)\n",
            "INFO:tensorflow:Calling checkpoint listeners before saving checkpoint 5000...\n",
            "INFO:tensorflow:Saving checkpoints for 5000 into /tmp/tmphhfvcwm8/model.ckpt.\n",
            "INFO:tensorflow:Calling checkpoint listeners after saving checkpoint 5000...\n",
            "INFO:tensorflow:Loss for final step: 0.55400646.\n"
          ],
          "name": "stdout"
        },
        {
          "output_type": "execute_result",
          "data": {
            "text/plain": [
              "<tensorflow_estimator.python.estimator.canned.dnn.DNNClassifierV2 at 0x7fe244c4fb70>"
            ]
          },
          "metadata": {
            "tags": []
          },
          "execution_count": 10
        }
      ]
    },
    {
      "cell_type": "code",
      "metadata": {
        "id": "yDkhykxYCDJu",
        "colab_type": "code",
        "colab": {}
      },
      "source": [
        "expected = ['Setosa', 'Versicolor', 'Virginica']\n",
        "predict_x = {\n",
        "    'SepalLength': [5.1, 5.9, 6.9],\n",
        "    'SepalWidth': [3.3, 3.0, 3.1],\n",
        "    'PetalLength': [1.7, 4.2, 5.4],\n",
        "    'PetalWidth': [0.5, 1.5, 2.1],\n",
        "}\n",
        "\n",
        "def input_fn(features, batch_size=256):\n",
        "  return tf.data.Dataset.from_tensor_slices(dict(features)).batch(batch_size)\n",
        "\n",
        "predictions = classifier.predict(\n",
        "    input_fn=lambda: input_fn(predict_x))"
      ],
      "execution_count": 14,
      "outputs": []
    },
    {
      "cell_type": "code",
      "metadata": {
        "id": "yuLCJLvzCy0S",
        "colab_type": "code",
        "colab": {
          "base_uri": "https://localhost:8080/",
          "height": 171
        },
        "outputId": "afffaef2-7234-4106-9502-6de9517edc65"
      },
      "source": [
        "for pred_dict, expec in zip(predictions, expected):\n",
        "  class_id = pred_dict['class_ids'][0]\n",
        "  probability = pred_dict['probabilities'][class_id]\n",
        "\n",
        "  print(f\"Prediction is {SPECIES[class_id]} ({100*probability}), expected {expec}\")"
      ],
      "execution_count": 15,
      "outputs": [
        {
          "output_type": "stream",
          "text": [
            "INFO:tensorflow:Calling model_fn.\n",
            "INFO:tensorflow:Done calling model_fn.\n",
            "INFO:tensorflow:Graph was finalized.\n",
            "INFO:tensorflow:Restoring parameters from /tmp/tmphhfvcwm8/model.ckpt-5000\n",
            "INFO:tensorflow:Running local_init_op.\n",
            "INFO:tensorflow:Done running local_init_op.\n",
            "Prediction is Setosa (69.61775422096252), expected Setosa\n",
            "Prediction is Virginica (45.98146378993988), expected Versicolor\n",
            "Prediction is Virginica (53.55049967765808), expected Virginica\n"
          ],
          "name": "stdout"
        }
      ]
    }
  ]
}