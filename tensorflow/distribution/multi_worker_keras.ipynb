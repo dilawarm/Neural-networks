{
  "nbformat": 4,
  "nbformat_minor": 0,
  "metadata": {
    "colab": {
      "name": "multi_worker_keras.ipynb",
      "provenance": [],
      "authorship_tag": "ABX9TyMI/Mk/NF1AbZizC4naxEoX"
    },
    "kernelspec": {
      "name": "python3",
      "display_name": "Python 3"
    },
    "accelerator": "GPU"
  },
  "cells": [
    {
      "cell_type": "code",
      "metadata": {
        "id": "QbGEznRhwHOG",
        "colab_type": "code",
        "colab": {
          "base_uri": "https://localhost:8080/",
          "height": 69
        },
        "outputId": "73e00697-614e-4305-82d2-4caa422c7e0e"
      },
      "source": [
        "!pip install -q tf-nightly\n",
        "import tensorflow as tf\n",
        "import numpy as np"
      ],
      "execution_count": 1,
      "outputs": [
        {
          "output_type": "stream",
          "text": [
            "\u001b[K     |████████████████████████████████| 322.7MB 52kB/s \n",
            "\u001b[K     |████████████████████████████████| 460kB 45.5MB/s \n",
            "\u001b[K     |████████████████████████████████| 6.8MB 48.8MB/s \n",
            "\u001b[?25h"
          ],
          "name": "stdout"
        }
      ]
    },
    {
      "cell_type": "code",
      "metadata": {
        "id": "E4NCfkXozbhY",
        "colab_type": "code",
        "colab": {
          "base_uri": "https://localhost:8080/",
          "height": 51
        },
        "outputId": "03d79676-2a1c-44e0-e6f4-9ac453adbda0"
      },
      "source": [
        "strategy = tf.distribute.experimental.MultiWorkerMirroredStrategy()"
      ],
      "execution_count": 2,
      "outputs": [
        {
          "output_type": "stream",
          "text": [
            "INFO:tensorflow:Using MirroredStrategy with devices ('/device:GPU:0',)\n",
            "INFO:tensorflow:Single-worker MultiWorkerMirroredStrategy with local_devices = ('/device:GPU:0',), communication = CollectiveCommunication.AUTO\n"
          ],
          "name": "stdout"
        }
      ]
    },
    {
      "cell_type": "code",
      "metadata": {
        "id": "mOf3jtthwQ_s",
        "colab_type": "code",
        "colab": {}
      },
      "source": [
        "def mnist_dataset(batch_size):\n",
        "  (x_train, y_train), _ = tf.keras.datasets.mnist.load_data()\n",
        "\n",
        "  x_train = x_train / np.float32(255)\n",
        "  y_train = y_train / np.float32(255)\n",
        "  train_dataset = tf.data.Dataset.from_tensor_slices((x_train, y_train)).shuffle(60000).repeat().batch(batch_size)\n",
        "  return train_dataset"
      ],
      "execution_count": 3,
      "outputs": []
    },
    {
      "cell_type": "code",
      "metadata": {
        "id": "29wgO3QswqVw",
        "colab_type": "code",
        "colab": {}
      },
      "source": [
        "def build_and_compile_cnn_model():\n",
        "  model = tf.keras.Sequential([\n",
        "    tf.keras.Input(shape=(28,28)),\n",
        "    tf.keras.layers.Reshape(target_shape=(28,28,1)),\n",
        "    tf.keras.layers.Conv2D(32, 3, activation=\"relu\"),\n",
        "    tf.keras.layers.Flatten(),\n",
        "    tf.keras.layers.Dense(128, activation=\"relu\"),\n",
        "    tf.keras.layers.Dense(10)                             \n",
        "  ])\n",
        "  model.compile(\n",
        "      loss=tf.keras.losses.SparseCategoricalCrossentropy(from_logits=True),\n",
        "      optimizer=tf.keras.optimizers.SGD(learning_rate=0.001),\n",
        "      metrics=[\"accuracy\"]\n",
        "  )\n",
        "  return model"
      ],
      "execution_count": 4,
      "outputs": []
    },
    {
      "cell_type": "code",
      "metadata": {
        "id": "6H1p6PF4xMDj",
        "colab_type": "code",
        "colab": {
          "base_uri": "https://localhost:8080/",
          "height": 138
        },
        "outputId": "8d0a6297-5815-4c39-99f8-c9ac236e88be"
      },
      "source": [
        "per_worker_batch_size = 64\n",
        "single_worker_dataset = mnist_dataset(per_worker_batch_size)\n",
        "single_worker_model = build_and_compile_cnn_model()\n",
        "single_worker_model.fit(single_worker_dataset, epochs=3, steps_per_epoch=70)"
      ],
      "execution_count": 5,
      "outputs": [
        {
          "output_type": "stream",
          "text": [
            "Epoch 1/3\n",
            "70/70 [==============================] - 0s 3ms/step - loss: 1.9237 - accuracy: 0.0795\n",
            "Epoch 2/3\n",
            "70/70 [==============================] - 0s 3ms/step - loss: 0.5041 - accuracy: 0.1031\n",
            "Epoch 3/3\n",
            "70/70 [==============================] - 0s 3ms/step - loss: 0.0768 - accuracy: 0.0975\n"
          ],
          "name": "stdout"
        },
        {
          "output_type": "execute_result",
          "data": {
            "text/plain": [
              "<tensorflow.python.keras.callbacks.History at 0x7fbe7bd801d0>"
            ]
          },
          "metadata": {
            "tags": []
          },
          "execution_count": 5
        }
      ]
    },
    {
      "cell_type": "code",
      "metadata": {
        "id": "kaoNFF3SxdmL",
        "colab_type": "code",
        "colab": {}
      },
      "source": [
        "import json\n",
        "import os\n",
        "os.environ['TF_CONFIG'] = json.dumps({\n",
        "    'cluster': {\n",
        "        'worker': [\"localhost:12345\", \"localhost:23456\"]\n",
        "    },\n",
        "    'task': {'type': 'worker', 'index': 0}\n",
        "})"
      ],
      "execution_count": 6,
      "outputs": []
    },
    {
      "cell_type": "code",
      "metadata": {
        "id": "yF1zfmRzyYof",
        "colab_type": "code",
        "colab": {
          "base_uri": "https://localhost:8080/",
          "height": 138
        },
        "outputId": "635d9b08-bcf3-4393-87f8-f11ba62c999c"
      },
      "source": [
        "num_workers = 4\n",
        "\n",
        "global_batch_size = per_worker_batch_size*num_workers\n",
        "multi_worker_dataset = mnist_dataset(global_batch_size)\n",
        "\n",
        "with strategy.scope():\n",
        "  multi_worker_model = build_and_compile_cnn_model()\n",
        "\n",
        "multi_worker_model.fit(multi_worker_dataset, epochs=3, steps_per_epoch=70)"
      ],
      "execution_count": 7,
      "outputs": [
        {
          "output_type": "stream",
          "text": [
            "Epoch 1/3\n",
            "70/70 [==============================] - 0s 6ms/step - loss: 1.2485 - accuracy: 0.0964\n",
            "Epoch 2/3\n",
            "70/70 [==============================] - 0s 6ms/step - loss: 0.1567 - accuracy: 0.0987\n",
            "Epoch 3/3\n",
            "70/70 [==============================] - 0s 6ms/step - loss: 0.0472 - accuracy: 0.0959\n"
          ],
          "name": "stdout"
        },
        {
          "output_type": "execute_result",
          "data": {
            "text/plain": [
              "<tensorflow.python.keras.callbacks.History at 0x7fbdc7ff6ac8>"
            ]
          },
          "metadata": {
            "tags": []
          },
          "execution_count": 7
        }
      ]
    },
    {
      "cell_type": "code",
      "metadata": {
        "id": "WeFaSXitz2L_",
        "colab_type": "code",
        "colab": {}
      },
      "source": [
        "options = tf.data.Options()\n",
        "options.experimental_distribute.auto_shard_policy = tf.data.experimental.AutoShardPolicy.OFF\n",
        "dataset_no_auto_shard = multi_worker_dataset.with_options(options)"
      ],
      "execution_count": 8,
      "outputs": []
    },
    {
      "cell_type": "code",
      "metadata": {
        "id": "dHenUnam0R3m",
        "colab_type": "code",
        "colab": {}
      },
      "source": [
        "def is_chief():\n",
        "  return True\n",
        "\n",
        "if is_chief():\n",
        "  path = \"/tmp/model_dir\"\n",
        "else:\n",
        "  worker_id = 1\n",
        "  path = f\"/tmp/model_dir/worker_tmp_{worker_id}\"\n",
        "\n",
        "checkpoint = tf.train.Checkpoint(model=multi_worker_model)\n",
        "manager = tf.train.CheckpointManager(\n",
        "    checkpoint, directory=path, max_to_keep=5\n",
        ")\n",
        "manager.save()\n",
        "\n",
        "checkpoint = tf.train.Checkpoint(model=multi_worker_model)\n",
        "manager = tf.train.CheckpointManager(\n",
        "    checkpoint, directory=path, max_to_keep=5\n",
        ")\n",
        "status = checkpoint.restore(manager.latest_checkpoint)\n",
        "\n",
        "model_dir_path = \"/tmp/model_dir\"\n",
        "checkpoint = tf.train.Checkpoint(model=multi_worker_model)\n",
        "latest_checkpoint = tf.train.latest_checkpoint(model_dir_path)\n",
        "status = checkpoint.restore(latest_checkpoint)"
      ],
      "execution_count": 9,
      "outputs": []
    },
    {
      "cell_type": "code",
      "metadata": {
        "id": "avu_I_Z11v1Q",
        "colab_type": "code",
        "colab": {
          "base_uri": "https://localhost:8080/",
          "height": 138
        },
        "outputId": "2a796d12-292f-434a-9cda-569ddff53096"
      },
      "source": [
        "callbacks = [tf.keras.callbacks.experimental.BackupAndRestore(backup_dir=\"/tmp/backup\")]\n",
        "with strategy.scope():\n",
        "  multi_worker_model = build_and_compile_cnn_model()\n",
        "multi_worker_model.fit(multi_worker_dataset,\n",
        "                       epochs=3,\n",
        "                       steps_per_epoch=70,\n",
        "                       callbacks=callbacks)"
      ],
      "execution_count": 10,
      "outputs": [
        {
          "output_type": "stream",
          "text": [
            "Epoch 1/3\n",
            "70/70 [==============================] - 0s 6ms/step - loss: 1.3409 - accuracy: 0.0971\n",
            "Epoch 2/3\n",
            "70/70 [==============================] - 0s 6ms/step - loss: 0.1493 - accuracy: 0.1012\n",
            "Epoch 3/3\n",
            "70/70 [==============================] - 0s 6ms/step - loss: 0.0403 - accuracy: 0.0982\n"
          ],
          "name": "stdout"
        },
        {
          "output_type": "execute_result",
          "data": {
            "text/plain": [
              "<tensorflow.python.keras.callbacks.History at 0x7fbdc6642358>"
            ]
          },
          "metadata": {
            "tags": []
          },
          "execution_count": 10
        }
      ]
    }
  ]
}