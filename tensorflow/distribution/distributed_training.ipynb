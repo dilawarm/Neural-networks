{
  "nbformat": 4,
  "nbformat_minor": 0,
  "metadata": {
    "colab": {
      "name": "distributed_training.ipynb",
      "provenance": [],
      "authorship_tag": "ABX9TyNW3DPjWBnBBp5CAOiBoRzF"
    },
    "kernelspec": {
      "name": "python3",
      "display_name": "Python 3"
    },
    "accelerator": "GPU"
  },
  "cells": [
    {
      "cell_type": "code",
      "metadata": {
        "id": "Lsqm2S0aIa_w",
        "colab_type": "code",
        "colab": {}
      },
      "source": [
        "import tensorflow_datasets as tfds\n",
        "import tensorflow as tf\n",
        "tfds.disable_progress_bar()\n",
        "\n",
        "import os"
      ],
      "execution_count": 20,
      "outputs": []
    },
    {
      "cell_type": "code",
      "metadata": {
        "id": "RV3m134sIv16",
        "colab_type": "code",
        "colab": {
          "base_uri": "https://localhost:8080/",
          "height": 34
        },
        "outputId": "8bddb478-3a66-45b1-c36d-51cdb15ffd0f"
      },
      "source": [
        "print(tf.__version__)"
      ],
      "execution_count": 21,
      "outputs": [
        {
          "output_type": "stream",
          "text": [
            "2.2.0\n"
          ],
          "name": "stdout"
        }
      ]
    },
    {
      "cell_type": "code",
      "metadata": {
        "id": "D2AFMtqyI0k7",
        "colab_type": "code",
        "colab": {}
      },
      "source": [
        "datasets, info = tfds.load(name=\"mnist\", with_info=True, as_supervised=True)\n",
        "\n",
        "mnist_train, mnist_test = datasets[\"train\"], datasets[\"test\"]"
      ],
      "execution_count": 22,
      "outputs": []
    },
    {
      "cell_type": "code",
      "metadata": {
        "id": "U5Je9xs1JFZ0",
        "colab_type": "code",
        "colab": {
          "base_uri": "https://localhost:8080/",
          "height": 51
        },
        "outputId": "e4b83cb7-3bef-4d33-ab61-ae50c70c1beb"
      },
      "source": [
        "strategy = tf.distribute.MirroredStrategy()"
      ],
      "execution_count": 23,
      "outputs": [
        {
          "output_type": "stream",
          "text": [
            "INFO:tensorflow:Using MirroredStrategy with devices ('/job:localhost/replica:0/task:0/device:GPU:0',)\n"
          ],
          "name": "stdout"
        },
        {
          "output_type": "stream",
          "text": [
            "INFO:tensorflow:Using MirroredStrategy with devices ('/job:localhost/replica:0/task:0/device:GPU:0',)\n"
          ],
          "name": "stderr"
        }
      ]
    },
    {
      "cell_type": "code",
      "metadata": {
        "id": "7qBfVyYYJNU1",
        "colab_type": "code",
        "colab": {
          "base_uri": "https://localhost:8080/",
          "height": 34
        },
        "outputId": "f8b6d76d-df04-485d-93fd-9e11455e3149"
      },
      "source": [
        "print(f\"Number of devices: {strategy.num_replicas_in_sync}\")"
      ],
      "execution_count": 24,
      "outputs": [
        {
          "output_type": "stream",
          "text": [
            "Number of devices: 1\n"
          ],
          "name": "stdout"
        }
      ]
    },
    {
      "cell_type": "code",
      "metadata": {
        "id": "diSQhzeVJTJp",
        "colab_type": "code",
        "colab": {}
      },
      "source": [
        "num_train_examples = info.splits[\"train\"].num_examples\n",
        "num_test_examples = info.splits[\"test\"].num_examples\n",
        "\n",
        "BUFFER_SIZE = 10000\n",
        "\n",
        "BATCH_SIZE_PER_REPLICA = 64\n",
        "BATCH_SIZE = BATCH_SIZE_PER_REPLICA * strategy.num_replicas_in_sync"
      ],
      "execution_count": 25,
      "outputs": []
    },
    {
      "cell_type": "code",
      "metadata": {
        "id": "XsylqXdVJqZf",
        "colab_type": "code",
        "colab": {}
      },
      "source": [
        "def scale(image, label):\n",
        "  image = tf.cast(image, tf.float32)\n",
        "  image /= 255\n",
        "\n",
        "  return image, label"
      ],
      "execution_count": 26,
      "outputs": []
    },
    {
      "cell_type": "code",
      "metadata": {
        "id": "5tzbFkvvJzrh",
        "colab_type": "code",
        "colab": {}
      },
      "source": [
        "train_dataset = mnist_train.map(scale).cache().shuffle(BUFFER_SIZE).batch(BATCH_SIZE)\n",
        "eval_dataset = mnist_test.map(scale).batch(BATCH_SIZE)"
      ],
      "execution_count": 27,
      "outputs": []
    },
    {
      "cell_type": "code",
      "metadata": {
        "id": "BVCqfHEiKCUX",
        "colab_type": "code",
        "colab": {}
      },
      "source": [
        "with strategy.scope():\n",
        "  model = tf.keras.Sequential([\n",
        "    tf.keras.layers.Conv2D(32, 3, activation=\"relu\", input_shape=(28,28,1)),\n",
        "    tf.keras.layers.MaxPooling2D(),\n",
        "    tf.keras.layers.Flatten(),\n",
        "    tf.keras.layers.Dense(64, activation=\"relu\"),\n",
        "    tf.keras.layers.Dense(10)                              \n",
        "  ])\n",
        "\n",
        "  model.compile(loss=tf.keras.losses.SparseCategoricalCrossentropy(from_logits=True),\n",
        "                optimizer=tf.keras.optimizers.Adam(),\n",
        "                metrics=[\"accuracy\"])"
      ],
      "execution_count": 28,
      "outputs": []
    },
    {
      "cell_type": "code",
      "metadata": {
        "id": "pKgTA5JXKmZf",
        "colab_type": "code",
        "colab": {}
      },
      "source": [
        "checkpoint_dir = \"./training_checkpoints\"\n",
        "\n",
        "checkpoint_prefix = os.path.join(checkpoint_dir, \"ckpt_{epoch}\")"
      ],
      "execution_count": 29,
      "outputs": []
    },
    {
      "cell_type": "code",
      "metadata": {
        "id": "SPwvHSHeK3Vb",
        "colab_type": "code",
        "colab": {}
      },
      "source": [
        "def decay(epoch):\n",
        "  if epoch < 3:\n",
        "    return 1e-3\n",
        "  elif epoch >= 3 and epoch < 7:\n",
        "    return 1e-4\n",
        "  else:\n",
        "    return 1e-5"
      ],
      "execution_count": 30,
      "outputs": []
    },
    {
      "cell_type": "code",
      "metadata": {
        "id": "cRLvHn2MLAto",
        "colab_type": "code",
        "colab": {}
      },
      "source": [
        "class PrintLR(tf.keras.callbacks.Callback):\n",
        "  def on_epoch_end(self, epoch, logs=None):\n",
        "    print(f\"\\nLearning rate for epoch {epoch + 1} is {model.optimizer.lr.numpy()}\")"
      ],
      "execution_count": 31,
      "outputs": []
    },
    {
      "cell_type": "code",
      "metadata": {
        "id": "NQOetNfvMUER",
        "colab_type": "code",
        "colab": {}
      },
      "source": [
        "callbacks = [\n",
        "  tf.keras.callbacks.TensorBoard(log_dir=\"./logs\"),\n",
        "  tf.keras.callbacks.ModelCheckpoint(filepath=checkpoint_prefix, save_weights_only=True),\n",
        "  tf.keras.callbacks.LearningRateScheduler(decay),\n",
        "  PrintLR()              \n",
        "]"
      ],
      "execution_count": 32,
      "outputs": []
    },
    {
      "cell_type": "code",
      "metadata": {
        "id": "ITrVeTZvg3Fw",
        "colab_type": "code",
        "colab": {
          "base_uri": "https://localhost:8080/",
          "height": 854
        },
        "outputId": "b741b812-730b-4d1c-ee92-e5b296b947b4"
      },
      "source": [
        "model.fit(train_dataset, epochs=12, callbacks=callbacks)"
      ],
      "execution_count": 33,
      "outputs": [
        {
          "output_type": "stream",
          "text": [
            "Epoch 1/12\n",
            "934/938 [============================>.] - ETA: 0s - loss: 0.1926 - accuracy: 0.9452\n",
            "Learning rate for epoch 1 is 0.0010000000474974513\n",
            "938/938 [==============================] - 13s 14ms/step - loss: 0.1921 - accuracy: 0.9453 - lr: 0.0010\n",
            "Epoch 2/12\n",
            "934/938 [============================>.] - ETA: 0s - loss: 0.0638 - accuracy: 0.9811\n",
            "Learning rate for epoch 2 is 0.0010000000474974513\n",
            "938/938 [==============================] - 7s 8ms/step - loss: 0.0637 - accuracy: 0.9811 - lr: 0.0010\n",
            "Epoch 3/12\n",
            "935/938 [============================>.] - ETA: 0s - loss: 0.0439 - accuracy: 0.9868\n",
            "Learning rate for epoch 3 is 0.0010000000474974513\n",
            "938/938 [==============================] - 7s 7ms/step - loss: 0.0439 - accuracy: 0.9868 - lr: 0.0010\n",
            "Epoch 4/12\n",
            "931/938 [============================>.] - ETA: 0s - loss: 0.0237 - accuracy: 0.9934\n",
            "Learning rate for epoch 4 is 9.999999747378752e-05\n",
            "938/938 [==============================] - 7s 7ms/step - loss: 0.0237 - accuracy: 0.9934 - lr: 1.0000e-04\n",
            "Epoch 5/12\n",
            "931/938 [============================>.] - ETA: 0s - loss: 0.0205 - accuracy: 0.9946\n",
            "Learning rate for epoch 5 is 9.999999747378752e-05\n",
            "938/938 [==============================] - 7s 7ms/step - loss: 0.0204 - accuracy: 0.9946 - lr: 1.0000e-04\n",
            "Epoch 6/12\n",
            "934/938 [============================>.] - ETA: 0s - loss: 0.0188 - accuracy: 0.9950\n",
            "Learning rate for epoch 6 is 9.999999747378752e-05\n",
            "938/938 [==============================] - 7s 7ms/step - loss: 0.0187 - accuracy: 0.9950 - lr: 1.0000e-04\n",
            "Epoch 7/12\n",
            "937/938 [============================>.] - ETA: 0s - loss: 0.0173 - accuracy: 0.9956\n",
            "Learning rate for epoch 7 is 9.999999747378752e-05\n",
            "938/938 [==============================] - 6s 7ms/step - loss: 0.0173 - accuracy: 0.9956 - lr: 1.0000e-04\n",
            "Epoch 8/12\n",
            "932/938 [============================>.] - ETA: 0s - loss: 0.0146 - accuracy: 0.9968\n",
            "Learning rate for epoch 8 is 9.999999747378752e-06\n",
            "938/938 [==============================] - 6s 7ms/step - loss: 0.0146 - accuracy: 0.9968 - lr: 1.0000e-05\n",
            "Epoch 9/12\n",
            "932/938 [============================>.] - ETA: 0s - loss: 0.0144 - accuracy: 0.9968\n",
            "Learning rate for epoch 9 is 9.999999747378752e-06\n",
            "938/938 [==============================] - 7s 7ms/step - loss: 0.0144 - accuracy: 0.9968 - lr: 1.0000e-05\n",
            "Epoch 10/12\n",
            "935/938 [============================>.] - ETA: 0s - loss: 0.0142 - accuracy: 0.9969\n",
            "Learning rate for epoch 10 is 9.999999747378752e-06\n",
            "938/938 [==============================] - 7s 7ms/step - loss: 0.0142 - accuracy: 0.9969 - lr: 1.0000e-05\n",
            "Epoch 11/12\n",
            "930/938 [============================>.] - ETA: 0s - loss: 0.0141 - accuracy: 0.9969\n",
            "Learning rate for epoch 11 is 9.999999747378752e-06\n",
            "938/938 [==============================] - 6s 7ms/step - loss: 0.0141 - accuracy: 0.9969 - lr: 1.0000e-05\n",
            "Epoch 12/12\n",
            "937/938 [============================>.] - ETA: 0s - loss: 0.0139 - accuracy: 0.9970\n",
            "Learning rate for epoch 12 is 9.999999747378752e-06\n",
            "938/938 [==============================] - 6s 7ms/step - loss: 0.0139 - accuracy: 0.9970 - lr: 1.0000e-05\n"
          ],
          "name": "stdout"
        },
        {
          "output_type": "execute_result",
          "data": {
            "text/plain": [
              "<tensorflow.python.keras.callbacks.History at 0x7f78b7a7dcc0>"
            ]
          },
          "metadata": {
            "tags": []
          },
          "execution_count": 33
        }
      ]
    },
    {
      "cell_type": "code",
      "metadata": {
        "id": "y4aeisQKg82t",
        "colab_type": "code",
        "colab": {
          "base_uri": "https://localhost:8080/",
          "height": 341
        },
        "outputId": "74ceca22-8cc0-4b35-d71c-32c111c155f6"
      },
      "source": [
        "!ls {checkpoint_dir}"
      ],
      "execution_count": 34,
      "outputs": [
        {
          "output_type": "stream",
          "text": [
            "checkpoint\t\t     ckpt_4.data-00000-of-00002\n",
            "ckpt_10.data-00000-of-00002  ckpt_4.data-00001-of-00002\n",
            "ckpt_10.data-00001-of-00002  ckpt_4.index\n",
            "ckpt_10.index\t\t     ckpt_5.data-00000-of-00002\n",
            "ckpt_11.data-00000-of-00002  ckpt_5.data-00001-of-00002\n",
            "ckpt_11.data-00001-of-00002  ckpt_5.index\n",
            "ckpt_11.index\t\t     ckpt_6.data-00000-of-00002\n",
            "ckpt_12.data-00000-of-00002  ckpt_6.data-00001-of-00002\n",
            "ckpt_12.data-00001-of-00002  ckpt_6.index\n",
            "ckpt_12.index\t\t     ckpt_7.data-00000-of-00002\n",
            "ckpt_1.data-00000-of-00002   ckpt_7.data-00001-of-00002\n",
            "ckpt_1.data-00001-of-00002   ckpt_7.index\n",
            "ckpt_1.index\t\t     ckpt_8.data-00000-of-00002\n",
            "ckpt_2.data-00000-of-00002   ckpt_8.data-00001-of-00002\n",
            "ckpt_2.data-00001-of-00002   ckpt_8.index\n",
            "ckpt_2.index\t\t     ckpt_9.data-00000-of-00002\n",
            "ckpt_3.data-00000-of-00002   ckpt_9.data-00001-of-00002\n",
            "ckpt_3.data-00001-of-00002   ckpt_9.index\n",
            "ckpt_3.index\n"
          ],
          "name": "stdout"
        }
      ]
    },
    {
      "cell_type": "code",
      "metadata": {
        "id": "NfAtvwAzhzJ7",
        "colab_type": "code",
        "colab": {
          "base_uri": "https://localhost:8080/",
          "height": 51
        },
        "outputId": "945c6386-7ade-4e35-849d-b61447793b30"
      },
      "source": [
        "model.load_weights(tf.train.latest_checkpoint(checkpoint_dir))\n",
        "\n",
        "eval_loss, eval_acc = model.evaluate(eval_dataset)\n",
        "\n",
        "print(f\"Eval loss: {eval_loss}, Eval Accuracy: {eval_acc}\")"
      ],
      "execution_count": 35,
      "outputs": [
        {
          "output_type": "stream",
          "text": [
            "157/157 [==============================] - 3s 21ms/step - loss: 0.0374 - accuracy: 0.9862\n",
            "Eval loss: 0.037436749786138535, Eval Accuracy: 0.9861999750137329\n"
          ],
          "name": "stdout"
        }
      ]
    },
    {
      "cell_type": "code",
      "metadata": {
        "id": "SkZbu-B1iMe5",
        "colab_type": "code",
        "colab": {
          "base_uri": "https://localhost:8080/",
          "height": 85
        },
        "outputId": "ecd3b014-c33d-49b3-b17e-7917d87385f9"
      },
      "source": [
        "!tensorboard --logdir=path/to/log-directory"
      ],
      "execution_count": 36,
      "outputs": [
        {
          "output_type": "stream",
          "text": [
            "2020-07-09 14:15:38.693950: I tensorflow/stream_executor/platform/default/dso_loader.cc:44] Successfully opened dynamic library libcudart.so.10.1\n",
            "Serving TensorBoard on localhost; to expose to the network, use a proxy or pass --bind_all\n",
            "TensorBoard 2.2.2 at http://localhost:6006/ (Press CTRL+C to quit)\n",
            "^C\n"
          ],
          "name": "stdout"
        }
      ]
    },
    {
      "cell_type": "code",
      "metadata": {
        "id": "blOg2upI7n2a",
        "colab_type": "code",
        "colab": {
          "base_uri": "https://localhost:8080/",
          "height": 51
        },
        "outputId": "9ad018c1-9ab0-48e6-996a-d3c1b72a5133"
      },
      "source": [
        "ls -sh ./logs"
      ],
      "execution_count": 37,
      "outputs": [
        {
          "output_type": "stream",
          "text": [
            "total 4.0K\n",
            "4.0K \u001b[0m\u001b[01;34mtrain\u001b[0m/\n"
          ],
          "name": "stdout"
        }
      ]
    },
    {
      "cell_type": "code",
      "metadata": {
        "id": "QsfNbh_C70AY",
        "colab_type": "code",
        "colab": {}
      },
      "source": [
        "path = 'saved_model/'"
      ],
      "execution_count": 38,
      "outputs": []
    },
    {
      "cell_type": "code",
      "metadata": {
        "id": "OAu1GDsM7wnt",
        "colab_type": "code",
        "colab": {
          "base_uri": "https://localhost:8080/",
          "height": 173
        },
        "outputId": "a5249189-e1a2-4610-e1b8-c0936f671db1"
      },
      "source": [
        "model.save(path, save_format='tf')"
      ],
      "execution_count": 39,
      "outputs": [
        {
          "output_type": "stream",
          "text": [
            "WARNING:tensorflow:From /usr/local/lib/python3.6/dist-packages/tensorflow/python/ops/resource_variable_ops.py:1817: calling BaseResourceVariable.__init__ (from tensorflow.python.ops.resource_variable_ops) with constraint is deprecated and will be removed in a future version.\n",
            "Instructions for updating:\n",
            "If using Keras pass *_constraint arguments to layers.\n"
          ],
          "name": "stdout"
        },
        {
          "output_type": "stream",
          "text": [
            "WARNING:tensorflow:From /usr/local/lib/python3.6/dist-packages/tensorflow/python/ops/resource_variable_ops.py:1817: calling BaseResourceVariable.__init__ (from tensorflow.python.ops.resource_variable_ops) with constraint is deprecated and will be removed in a future version.\n",
            "Instructions for updating:\n",
            "If using Keras pass *_constraint arguments to layers.\n"
          ],
          "name": "stderr"
        },
        {
          "output_type": "stream",
          "text": [
            "INFO:tensorflow:Assets written to: saved_model/assets\n"
          ],
          "name": "stdout"
        },
        {
          "output_type": "stream",
          "text": [
            "INFO:tensorflow:Assets written to: saved_model/assets\n"
          ],
          "name": "stderr"
        }
      ]
    },
    {
      "cell_type": "code",
      "metadata": {
        "id": "_l19w6SV76Iw",
        "colab_type": "code",
        "colab": {
          "base_uri": "https://localhost:8080/",
          "height": 51
        },
        "outputId": "f6ea84b2-594c-4ff0-c028-dbe7213722cd"
      },
      "source": [
        "unreplicated_model = tf.keras.models.load_model(path)\n",
        "\n",
        "unreplicated_model.compile(\n",
        "    loss=tf.keras.losses.SparseCategoricalCrossentropy(from_logits=True),\n",
        "    optimizer=tf.keras.optimizers.Adam(),\n",
        "    metrics=[\"accuracy\"]\n",
        ")\n",
        "\n",
        "eval_loss, eval_acc = unreplicated_model.evaluate(eval_dataset)\n",
        "\n",
        "print(f\"Eval loss: {eval_loss}, Eval Accuracy: {eval_acc}\")"
      ],
      "execution_count": 40,
      "outputs": [
        {
          "output_type": "stream",
          "text": [
            "157/157 [==============================] - 3s 17ms/step - loss: 0.0374 - accuracy: 0.9862\n",
            "Eval loss: 0.037436749786138535, Eval Accuracy: 0.9861999750137329\n"
          ],
          "name": "stdout"
        }
      ]
    },
    {
      "cell_type": "code",
      "metadata": {
        "id": "PQkhHJVa8Pqx",
        "colab_type": "code",
        "colab": {
          "base_uri": "https://localhost:8080/",
          "height": 51
        },
        "outputId": "01852e06-4bcd-4d87-e76c-596c0b502140"
      },
      "source": [
        "with strategy.scope():\n",
        "  replicated_model = tf.keras.models.load_model(path)\n",
        "  replicated_model.compile(\n",
        "      loss=tf.keras.losses.SparseCategoricalCrossentropy(from_logits=True),\n",
        "      optimizer=tf.keras.optimizers.Adam(),\n",
        "      metrics=[\"accuracy\"]\n",
        "  )\n",
        "\n",
        "  eval_loss, eval_acc = replicated_model.evaluate(eval_dataset)\n",
        "  print(f\"Eval loss: {eval_loss}, Eval Accuracy: {eval_acc}\")"
      ],
      "execution_count": 41,
      "outputs": [
        {
          "output_type": "stream",
          "text": [
            "157/157 [==============================] - 3s 19ms/step - loss: 0.0374 - accuracy: 0.9862\n",
            "Eval loss: 0.037436749786138535, Eval Accuracy: 0.9861999750137329\n"
          ],
          "name": "stdout"
        }
      ]
    },
    {
      "cell_type": "code",
      "metadata": {
        "id": "OrJ-mZXK8gIz",
        "colab_type": "code",
        "colab": {}
      },
      "source": [
        ""
      ],
      "execution_count": null,
      "outputs": []
    }
  ]
}