{
  "nbformat": 4,
  "nbformat_minor": 0,
  "metadata": {
    "colab": {
      "name": "save_and_load.ipynb",
      "provenance": [],
      "authorship_tag": "ABX9TyMdivZQov/v/DHgv6UikxEl"
    },
    "kernelspec": {
      "name": "python3",
      "display_name": "Python 3"
    },
    "accelerator": "GPU"
  },
  "cells": [
    {
      "cell_type": "code",
      "metadata": {
        "id": "U-yZu8TosbI0",
        "colab_type": "code",
        "colab": {}
      },
      "source": [
        "import tensorflow_datasets as tfds\n",
        "\n",
        "import tensorflow as tf\n",
        "tfds.disable_progress_bar()"
      ],
      "execution_count": 2,
      "outputs": []
    },
    {
      "cell_type": "code",
      "metadata": {
        "id": "ry0mIcnRssLL",
        "colab_type": "code",
        "colab": {
          "base_uri": "https://localhost:8080/",
          "height": 34
        },
        "outputId": "e451ddc9-6cd8-4061-93a5-8de9ecb01a32"
      },
      "source": [
        "mirrored_strategy = tf.distribute.MirroredStrategy()\n",
        "\n",
        "def get_data():\n",
        "  datasets, ds_info = tfds.load(name=\"mnist\", with_info=True, as_supervised=True)\n",
        "  mnist_train, mnist_test = datasets[\"train\"], datasets[\"test\"]\n",
        "\n",
        "  BUFFER_SIZE = 10000\n",
        "\n",
        "  BATCH_SIZE_PER_REPLICA = 64\n",
        "  BATCH_SIZE = BATCH_SIZE_PER_REPLICA * mirrored_strategy.num_replicas_in_sync\n",
        "\n",
        "  def scale(image, label):\n",
        "    image = tf.cast(image, tf.float32)\n",
        "    image /= 255\n",
        "\n",
        "    return image, label\n",
        "  \n",
        "  train_dataset = mnist_train.map(scale).cache().shuffle(BUFFER_SIZE).batch(BATCH_SIZE)\n",
        "  eval_dataset = mnist_test.map(scale).batch(BATCH_SIZE)\n",
        "\n",
        "  return train_dataset, eval_dataset\n",
        "\n",
        "def get_model():\n",
        "  with mirrored_strategy.scope():\n",
        "    model = tf.keras.Sequential([\n",
        "      tf.keras.layers.Conv2D(32, 3, activation=\"relu\", input_shape=(28,28,1)),\n",
        "      tf.keras.layers.MaxPooling2D(),\n",
        "      tf.keras.layers.Flatten(),\n",
        "      tf.keras.layers.Dense(64, activation=\"relu\"),\n",
        "      tf.keras.layers.Dense(10)                             \n",
        "    ])\n",
        "\n",
        "    model.compile(loss=tf.keras.losses.SparseCategoricalCrossentropy(from_logits=True),\n",
        "                  optimizer=tf.keras.optimizers.Adam(),\n",
        "                  metrics=[\"accuracy\"])\n",
        "    return model"
      ],
      "execution_count": 3,
      "outputs": [
        {
          "output_type": "stream",
          "text": [
            "INFO:tensorflow:Using MirroredStrategy with devices ('/job:localhost/replica:0/task:0/device:GPU:0',)\n"
          ],
          "name": "stdout"
        }
      ]
    },
    {
      "cell_type": "code",
      "metadata": {
        "id": "JsxjQE8EtddV",
        "colab_type": "code",
        "colab": {
          "base_uri": "https://localhost:8080/",
          "height": 522
        },
        "outputId": "78febf8a-33bb-470f-df35-1bd4bf6a4bb8"
      },
      "source": [
        "model = get_model()\n",
        "train_dataset, eval_dataset = get_data()\n",
        "model.fit(train_dataset, epochs=2)"
      ],
      "execution_count": 4,
      "outputs": [
        {
          "output_type": "stream",
          "text": [
            "WARNING:absl:Dataset mnist is hosted on GCS. It will automatically be downloaded to your\n",
            "local data directory. If you'd instead prefer to read directly from our public\n",
            "GCS bucket (recommended if you're running on GCP), you can instead set\n",
            "data_dir=gs://tfds-data/datasets.\n",
            "\n"
          ],
          "name": "stderr"
        },
        {
          "output_type": "stream",
          "text": [
            "\u001b[1mDownloading and preparing dataset mnist/3.0.0 (download: 11.06 MiB, generated: Unknown size, total: 11.06 MiB) to /root/tensorflow_datasets/mnist/3.0.0...\u001b[0m\n",
            "\u001b[1mDataset mnist downloaded and prepared to /root/tensorflow_datasets/mnist/3.0.0. Subsequent calls will reuse this data.\u001b[0m\n",
            "Epoch 1/2\n",
            "INFO:tensorflow:Reduce to /job:localhost/replica:0/task:0/device:CPU:0 then broadcast to ('/job:localhost/replica:0/task:0/device:CPU:0',).\n"
          ],
          "name": "stdout"
        },
        {
          "output_type": "stream",
          "text": [
            "INFO:tensorflow:Reduce to /job:localhost/replica:0/task:0/device:CPU:0 then broadcast to ('/job:localhost/replica:0/task:0/device:CPU:0',).\n"
          ],
          "name": "stderr"
        },
        {
          "output_type": "stream",
          "text": [
            "INFO:tensorflow:Reduce to /job:localhost/replica:0/task:0/device:CPU:0 then broadcast to ('/job:localhost/replica:0/task:0/device:CPU:0',).\n"
          ],
          "name": "stdout"
        },
        {
          "output_type": "stream",
          "text": [
            "INFO:tensorflow:Reduce to /job:localhost/replica:0/task:0/device:CPU:0 then broadcast to ('/job:localhost/replica:0/task:0/device:CPU:0',).\n"
          ],
          "name": "stderr"
        },
        {
          "output_type": "stream",
          "text": [
            "INFO:tensorflow:Reduce to /job:localhost/replica:0/task:0/device:CPU:0 then broadcast to ('/job:localhost/replica:0/task:0/device:CPU:0',).\n"
          ],
          "name": "stdout"
        },
        {
          "output_type": "stream",
          "text": [
            "INFO:tensorflow:Reduce to /job:localhost/replica:0/task:0/device:CPU:0 then broadcast to ('/job:localhost/replica:0/task:0/device:CPU:0',).\n"
          ],
          "name": "stderr"
        },
        {
          "output_type": "stream",
          "text": [
            "INFO:tensorflow:Reduce to /job:localhost/replica:0/task:0/device:CPU:0 then broadcast to ('/job:localhost/replica:0/task:0/device:CPU:0',).\n"
          ],
          "name": "stdout"
        },
        {
          "output_type": "stream",
          "text": [
            "INFO:tensorflow:Reduce to /job:localhost/replica:0/task:0/device:CPU:0 then broadcast to ('/job:localhost/replica:0/task:0/device:CPU:0',).\n"
          ],
          "name": "stderr"
        },
        {
          "output_type": "stream",
          "text": [
            "INFO:tensorflow:Reduce to /job:localhost/replica:0/task:0/device:CPU:0 then broadcast to ('/job:localhost/replica:0/task:0/device:CPU:0',).\n"
          ],
          "name": "stdout"
        },
        {
          "output_type": "stream",
          "text": [
            "INFO:tensorflow:Reduce to /job:localhost/replica:0/task:0/device:CPU:0 then broadcast to ('/job:localhost/replica:0/task:0/device:CPU:0',).\n"
          ],
          "name": "stderr"
        },
        {
          "output_type": "stream",
          "text": [
            "INFO:tensorflow:Reduce to /job:localhost/replica:0/task:0/device:CPU:0 then broadcast to ('/job:localhost/replica:0/task:0/device:CPU:0',).\n"
          ],
          "name": "stdout"
        },
        {
          "output_type": "stream",
          "text": [
            "INFO:tensorflow:Reduce to /job:localhost/replica:0/task:0/device:CPU:0 then broadcast to ('/job:localhost/replica:0/task:0/device:CPU:0',).\n"
          ],
          "name": "stderr"
        },
        {
          "output_type": "stream",
          "text": [
            "INFO:tensorflow:Reduce to /job:localhost/replica:0/task:0/device:CPU:0 then broadcast to ('/job:localhost/replica:0/task:0/device:CPU:0',).\n"
          ],
          "name": "stdout"
        },
        {
          "output_type": "stream",
          "text": [
            "INFO:tensorflow:Reduce to /job:localhost/replica:0/task:0/device:CPU:0 then broadcast to ('/job:localhost/replica:0/task:0/device:CPU:0',).\n"
          ],
          "name": "stderr"
        },
        {
          "output_type": "stream",
          "text": [
            "INFO:tensorflow:Reduce to /job:localhost/replica:0/task:0/device:CPU:0 then broadcast to ('/job:localhost/replica:0/task:0/device:CPU:0',).\n"
          ],
          "name": "stdout"
        },
        {
          "output_type": "stream",
          "text": [
            "INFO:tensorflow:Reduce to /job:localhost/replica:0/task:0/device:CPU:0 then broadcast to ('/job:localhost/replica:0/task:0/device:CPU:0',).\n"
          ],
          "name": "stderr"
        },
        {
          "output_type": "stream",
          "text": [
            "938/938 [==============================] - 7s 7ms/step - accuracy: 0.9452 - loss: 0.1871\n",
            "Epoch 2/2\n",
            "938/938 [==============================] - 3s 3ms/step - accuracy: 0.9816 - loss: 0.0605\n"
          ],
          "name": "stdout"
        },
        {
          "output_type": "execute_result",
          "data": {
            "text/plain": [
              "<tensorflow.python.keras.callbacks.History at 0x7f9b98ee0780>"
            ]
          },
          "metadata": {
            "tags": []
          },
          "execution_count": 4
        }
      ]
    },
    {
      "cell_type": "code",
      "metadata": {
        "id": "5_eaEL6euJpZ",
        "colab_type": "code",
        "colab": {
          "base_uri": "https://localhost:8080/",
          "height": 175
        },
        "outputId": "d75dca15-5462-4060-a448-f8869760229f"
      },
      "source": [
        "keras_model_path = \"tmp/keras_save\"\n",
        "model.save(keras_model_path)"
      ],
      "execution_count": 5,
      "outputs": [
        {
          "output_type": "stream",
          "text": [
            "WARNING:tensorflow:From /usr/local/lib/python3.6/dist-packages/tensorflow/python/ops/resource_variable_ops.py:1817: calling BaseResourceVariable.__init__ (from tensorflow.python.ops.resource_variable_ops) with constraint is deprecated and will be removed in a future version.\n",
            "Instructions for updating:\n",
            "If using Keras pass *_constraint arguments to layers.\n"
          ],
          "name": "stdout"
        },
        {
          "output_type": "stream",
          "text": [
            "WARNING:tensorflow:From /usr/local/lib/python3.6/dist-packages/tensorflow/python/ops/resource_variable_ops.py:1817: calling BaseResourceVariable.__init__ (from tensorflow.python.ops.resource_variable_ops) with constraint is deprecated and will be removed in a future version.\n",
            "Instructions for updating:\n",
            "If using Keras pass *_constraint arguments to layers.\n"
          ],
          "name": "stderr"
        },
        {
          "output_type": "stream",
          "text": [
            "INFO:tensorflow:Assets written to: tmp/keras_save/assets\n"
          ],
          "name": "stdout"
        },
        {
          "output_type": "stream",
          "text": [
            "INFO:tensorflow:Assets written to: tmp/keras_save/assets\n"
          ],
          "name": "stderr"
        }
      ]
    },
    {
      "cell_type": "code",
      "metadata": {
        "id": "mi8yoUQouXVm",
        "colab_type": "code",
        "colab": {
          "base_uri": "https://localhost:8080/",
          "height": 103
        },
        "outputId": "5caf1666-0a2d-4b10-f5cc-fcac06190557"
      },
      "source": [
        "restored_keras_model = tf.keras.models.load_model(keras_model_path)\n",
        "restored_keras_model.fit(train_dataset, epochs=2)"
      ],
      "execution_count": 6,
      "outputs": [
        {
          "output_type": "stream",
          "text": [
            "Epoch 1/2\n",
            "938/938 [==============================] - 2s 3ms/step - loss: 0.0443 - accuracy: 0.9861\n",
            "Epoch 2/2\n",
            "938/938 [==============================] - 2s 2ms/step - loss: 0.0322 - accuracy: 0.9902\n"
          ],
          "name": "stdout"
        },
        {
          "output_type": "execute_result",
          "data": {
            "text/plain": [
              "<tensorflow.python.keras.callbacks.History at 0x7f9b993b1e10>"
            ]
          },
          "metadata": {
            "tags": []
          },
          "execution_count": 6
        }
      ]
    },
    {
      "cell_type": "code",
      "metadata": {
        "id": "NigJpu54ufyx",
        "colab_type": "code",
        "colab": {
          "base_uri": "https://localhost:8080/",
          "height": 86
        },
        "outputId": "9bc92ac5-4448-41fe-9d11-3bd6b7cffdf4"
      },
      "source": [
        "another_strategy = tf.distribute.OneDeviceStrategy(\"/cpu:0\")\n",
        "with another_strategy.scope():\n",
        "  restored_keras_model_ds = tf.keras.models.load_model(keras_model_path)\n",
        "  restored_keras_model_ds.fit(train_dataset, epochs=2)"
      ],
      "execution_count": 8,
      "outputs": [
        {
          "output_type": "stream",
          "text": [
            "Epoch 1/2\n",
            "938/938 [==============================] - 19s 20ms/step - loss: 0.0451 - accuracy: 0.9862\n",
            "Epoch 2/2\n",
            "938/938 [==============================] - 19s 20ms/step - loss: 0.0312 - accuracy: 0.9906\n"
          ],
          "name": "stdout"
        }
      ]
    },
    {
      "cell_type": "code",
      "metadata": {
        "id": "8ZKzluysuuzz",
        "colab_type": "code",
        "colab": {
          "base_uri": "https://localhost:8080/",
          "height": 51
        },
        "outputId": "cf549c01-9ef0-4d1b-e502-8e69f03a5e8e"
      },
      "source": [
        "model = get_model()\n",
        "saved_model_path = \"tmp/tf_save\"\n",
        "tf.saved_model.save(model, saved_model_path)"
      ],
      "execution_count": 9,
      "outputs": [
        {
          "output_type": "stream",
          "text": [
            "INFO:tensorflow:Assets written to: tmp/tf_save/assets\n"
          ],
          "name": "stdout"
        },
        {
          "output_type": "stream",
          "text": [
            "INFO:tensorflow:Assets written to: tmp/tf_save/assets\n"
          ],
          "name": "stderr"
        }
      ]
    },
    {
      "cell_type": "code",
      "metadata": {
        "id": "G9ppxleLvTRu",
        "colab_type": "code",
        "colab": {}
      },
      "source": [
        "DEFAULT_FUNCTION_KEY = \"serving_default\"\n",
        "loaded = tf.saved_model.load(saved_model_path)\n",
        "inference_func = loaded.signatures[DEFAULT_FUNCTION_KEY]"
      ],
      "execution_count": 10,
      "outputs": []
    },
    {
      "cell_type": "code",
      "metadata": {
        "id": "SCpfZzwtvfXw",
        "colab_type": "code",
        "colab": {
          "base_uri": "https://localhost:8080/",
          "height": 1000
        },
        "outputId": "51482ba8-1b39-4a45-e7f3-5916514dc402"
      },
      "source": [
        "predict_dataset = eval_dataset.map(lambda image, label: image)\n",
        "for batch in predict_dataset.take(1):\n",
        "  print(inference_func(batch))"
      ],
      "execution_count": 11,
      "outputs": [
        {
          "output_type": "stream",
          "text": [
            "{'dense_3': <tf.Tensor: shape=(64, 10), dtype=float32, numpy=\n",
            "array([[-1.12064295e-01, -5.19634411e-02,  1.19339138e-01,\n",
            "         4.59170267e-02, -1.59013048e-02,  5.89837208e-02,\n",
            "         7.68163279e-02,  9.72576737e-02, -1.14359848e-01,\n",
            "         9.11261514e-03],\n",
            "       [ 2.67654657e-04,  2.79976651e-02,  1.48698777e-01,\n",
            "         1.88628256e-01,  5.22958562e-02,  4.62939143e-02,\n",
            "         8.91167521e-02,  1.14625774e-01,  4.98715937e-02,\n",
            "        -7.29172453e-02],\n",
            "       [-3.49866785e-02, -6.45557493e-02,  1.78777337e-01,\n",
            "         1.15453571e-01, -9.04779658e-02, -1.43328123e-03,\n",
            "         1.23820364e-01,  3.85451652e-02, -7.67812729e-02,\n",
            "         1.26923695e-02],\n",
            "       [ 7.97091424e-03,  1.19586207e-01,  3.86014059e-02,\n",
            "         4.58077714e-03, -5.82271591e-02,  6.32626787e-02,\n",
            "         9.66437533e-03,  1.05679572e-01, -3.72924805e-02,\n",
            "        -9.15333033e-02],\n",
            "       [ 4.91752997e-02,  2.54643932e-02,  1.32490918e-01,\n",
            "         1.83511078e-02,  1.64997876e-02,  1.05574325e-01,\n",
            "         6.54362068e-02,  4.34912108e-02,  1.15239240e-01,\n",
            "         5.56526035e-02],\n",
            "       [-2.96727084e-02, -1.89773925e-02,  9.60341990e-02,\n",
            "         1.50424704e-01, -3.59488465e-02,  3.05835791e-02,\n",
            "         1.36502713e-01,  1.25999719e-01, -5.32592013e-02,\n",
            "        -3.11648697e-02],\n",
            "       [ 2.25478224e-02,  5.20930886e-02,  1.56300664e-01,\n",
            "         1.59633547e-01,  1.96427815e-02,  6.30446821e-02,\n",
            "         1.02579758e-01,  1.31538332e-01,  1.17439471e-01,\n",
            "        -4.00995351e-02],\n",
            "       [ 7.22141787e-02, -1.22406892e-01,  1.13112941e-01,\n",
            "         1.28119051e-01, -1.24645427e-01, -6.14719465e-02,\n",
            "         1.38756752e-01,  8.07078332e-02, -5.45733497e-02,\n",
            "        -4.39233258e-02],\n",
            "       [-4.66670431e-02, -9.40069929e-03,  1.22827865e-01,\n",
            "         1.26010060e-01, -2.02621818e-02,  5.38737476e-02,\n",
            "         1.54779151e-01,  1.19803280e-01, -2.06514224e-02,\n",
            "        -3.00111994e-03],\n",
            "       [ 4.01383191e-02,  3.36877927e-02,  5.55843860e-02,\n",
            "         8.75496119e-03, -8.75595510e-02,  1.86091308e-02,\n",
            "         5.74599914e-02,  6.95892125e-02,  4.23976630e-02,\n",
            "         2.85128392e-02],\n",
            "       [-5.43985739e-02,  1.32952444e-02,  2.02201977e-02,\n",
            "         1.57942563e-01, -4.31258455e-02,  9.35636014e-02,\n",
            "         8.90124068e-02,  9.11798701e-02, -1.11664776e-02,\n",
            "        -5.60334921e-02],\n",
            "       [ 3.77973914e-03, -5.74802682e-02,  1.96855754e-01,\n",
            "         1.00254118e-01,  2.19893698e-02,  1.41641378e-01,\n",
            "         1.83298871e-01,  1.54117167e-01, -1.49271358e-02,\n",
            "         5.82121275e-02],\n",
            "       [ 3.73152420e-02, -2.04862654e-03,  1.17287815e-01,\n",
            "        -2.70364434e-03, -8.26194063e-02,  2.34511215e-02,\n",
            "         1.13696784e-01,  7.60559067e-02,  8.59188661e-02,\n",
            "         7.67740011e-02],\n",
            "       [ 2.82888934e-02, -7.71133751e-02,  5.39712384e-02,\n",
            "         6.98334426e-02, -1.95674524e-02,  1.24187484e-01,\n",
            "         7.10765272e-02,  1.20737702e-01,  1.39894150e-03,\n",
            "         4.61924598e-02],\n",
            "       [-5.77758625e-03, -3.00675966e-02,  2.90729925e-02,\n",
            "         1.02071412e-01, -2.33524684e-02,  1.91661566e-01,\n",
            "         1.25128016e-01,  1.04723975e-01, -1.20245144e-02,\n",
            "        -4.30796854e-03],\n",
            "       [ 1.18464604e-03, -2.84190029e-02,  1.39202297e-01,\n",
            "         8.31772014e-02, -3.85893136e-03,  2.99910493e-02,\n",
            "         1.00311406e-01,  1.44548595e-01, -5.57935759e-02,\n",
            "        -4.70183603e-03],\n",
            "       [ 3.37117463e-02,  1.76027082e-02,  5.11333942e-02,\n",
            "         3.15219611e-02, -1.27019882e-02,  4.22870480e-02,\n",
            "         3.67530584e-02,  1.84257925e-01, -2.75248494e-02,\n",
            "         1.96682513e-02],\n",
            "       [ 4.71844897e-02, -6.31154329e-02,  5.28394841e-02,\n",
            "         1.24117464e-01, -5.99277876e-02, -1.93549134e-03,\n",
            "         1.70511156e-01,  1.01641841e-01, -3.11789475e-02,\n",
            "        -3.99994887e-02],\n",
            "       [ 2.52994895e-02, -2.63436716e-02,  4.41819802e-02,\n",
            "         4.79347855e-02, -6.88637123e-02,  9.98740271e-03,\n",
            "         1.10633761e-01,  1.09927684e-01, -2.67001782e-02,\n",
            "         4.00797352e-02],\n",
            "       [ 1.95929222e-03,  5.73538989e-03,  5.52798808e-02,\n",
            "         6.28560483e-02,  7.50253722e-03,  1.17995694e-01,\n",
            "         1.07900396e-01,  1.15528993e-01, -1.67746842e-03,\n",
            "        -1.39182992e-03],\n",
            "       [-4.70844358e-02, -2.98371464e-02,  5.02373017e-02,\n",
            "         1.22135550e-01, -1.24148838e-03,  1.71286911e-01,\n",
            "         1.40962034e-01,  1.01485744e-01, -1.35839423e-02,\n",
            "         2.49843970e-02],\n",
            "       [-1.73680224e-02, -6.55390918e-02,  1.75465420e-02,\n",
            "         8.82252604e-02, -4.56898510e-02,  1.04549505e-01,\n",
            "         9.51125622e-02,  6.71276599e-02,  1.91621315e-02,\n",
            "        -3.13424133e-02],\n",
            "       [ 7.08801001e-02,  7.86658004e-02,  1.14304073e-01,\n",
            "         1.51050508e-01, -2.49689519e-02,  3.18378061e-02,\n",
            "         2.01017231e-01,  8.60473961e-02,  6.76491857e-02,\n",
            "        -3.00593190e-02],\n",
            "       [ 2.24561542e-02,  2.14004144e-02,  1.04793184e-01,\n",
            "         6.07032366e-02,  8.36622268e-02,  6.96912035e-02,\n",
            "         1.15932927e-01,  1.25269726e-01,  4.92412001e-02,\n",
            "         2.64247246e-02],\n",
            "       [ 6.79240003e-02, -1.42410398e-02,  1.03604160e-01,\n",
            "         7.72003606e-02, -2.09077597e-02, -4.80950251e-02,\n",
            "         2.92271208e-02,  1.02280907e-01, -5.89445308e-02,\n",
            "        -2.63333842e-02],\n",
            "       [ 2.59526372e-02,  2.94942148e-02,  1.10151656e-01,\n",
            "         9.03286561e-02, -2.29009371e-02,  6.03467897e-02,\n",
            "         1.46440327e-01,  1.26700222e-01, -5.36081567e-02,\n",
            "         2.46331431e-02],\n",
            "       [ 3.43055427e-02, -6.30376786e-02, -5.79406880e-03,\n",
            "         7.67728314e-02, -5.76150566e-02,  2.65583135e-02,\n",
            "         1.11648321e-01,  3.87974679e-02, -1.60494819e-04,\n",
            "        -4.54722717e-02],\n",
            "       [-6.57211244e-02, -5.68409227e-02,  8.09836835e-02,\n",
            "         1.18854299e-01, -9.37554836e-02,  4.27598134e-02,\n",
            "         1.71373248e-01,  1.04506284e-01, -1.98246725e-02,\n",
            "        -4.32509854e-02],\n",
            "       [ 6.94116130e-02, -1.63165405e-02,  1.11837223e-01,\n",
            "         1.14076510e-01,  3.55476961e-02,  2.01247390e-02,\n",
            "         9.44039375e-02,  2.55961530e-02,  3.39481160e-02,\n",
            "         6.31959885e-02],\n",
            "       [-5.39856404e-02, -4.85662669e-02,  4.05233875e-02,\n",
            "         1.16865017e-01,  6.48816396e-03,  2.87109539e-02,\n",
            "         3.96400429e-02,  1.28371954e-01, -1.33636698e-01,\n",
            "        -4.13415842e-02],\n",
            "       [-3.77259701e-02, -1.21338442e-02,  1.19363494e-01,\n",
            "         4.87888791e-02, -9.17849690e-02,  5.57117835e-02,\n",
            "         9.74125788e-02,  9.46308076e-02,  2.32883915e-03,\n",
            "        -4.92209122e-02],\n",
            "       [ 3.42603885e-02, -2.66140420e-02,  1.02262750e-01,\n",
            "         1.50250226e-01, -3.19242775e-02,  1.91119276e-02,\n",
            "         9.07393396e-02,  1.01919860e-01, -7.14324713e-02,\n",
            "        -3.71698365e-02],\n",
            "       [ 1.73899308e-02,  1.12846792e-02,  7.52369873e-03,\n",
            "         1.68018892e-01,  4.26854715e-02,  1.12627514e-01,\n",
            "         1.39616311e-01,  1.48812771e-01, -3.18283774e-02,\n",
            "         2.45288797e-02],\n",
            "       [-2.20597498e-02, -3.66866700e-02,  5.66563159e-02,\n",
            "         8.16605687e-02, -5.87281175e-02,  4.27275710e-03,\n",
            "         7.85459429e-02,  7.25465268e-02,  1.84499156e-02,\n",
            "         1.48374150e-02],\n",
            "       [-1.80196799e-02, -5.30747995e-02,  1.26569748e-01,\n",
            "         1.70864999e-01, -4.75557782e-02, -1.37240998e-02,\n",
            "         1.50451154e-01,  9.16788578e-02, -1.29341632e-02,\n",
            "        -2.50283852e-02],\n",
            "       [ 5.74855581e-02,  3.36553082e-02,  1.05132991e-02,\n",
            "         1.65571988e-01,  2.15536710e-02,  1.39300525e-01,\n",
            "         1.02777041e-01,  9.39388499e-02, -4.23476063e-02,\n",
            "        -2.93116309e-02],\n",
            "       [-5.87007962e-02,  1.31759066e-02,  1.61181629e-01,\n",
            "         5.82793280e-02, -3.85064185e-02,  1.28283456e-01,\n",
            "         1.63170233e-01,  1.45112187e-01, -1.12311617e-02,\n",
            "         1.00215822e-02],\n",
            "       [ 4.71318439e-02,  2.38870233e-02, -3.48194614e-02,\n",
            "         5.11914529e-02,  7.01352283e-02,  1.29092842e-01,\n",
            "         5.68460524e-02,  1.63515180e-01, -2.94028614e-02,\n",
            "        -1.57929324e-02],\n",
            "       [ 5.03130630e-03,  4.91772965e-02,  8.24842453e-02,\n",
            "         2.49188617e-02, -7.62770027e-02, -1.76625159e-02,\n",
            "         2.22164299e-02,  8.79896432e-02,  8.29053111e-03,\n",
            "        -2.94760428e-02],\n",
            "       [ 1.07830018e-02,  1.31664336e-01,  5.69352508e-03,\n",
            "         2.45515257e-02,  6.91884086e-02,  8.23693126e-02,\n",
            "         1.01022664e-02,  1.73562109e-01, -1.75417438e-02,\n",
            "        -4.17247564e-02],\n",
            "       [ 6.19226694e-03,  3.24412435e-03,  5.47135249e-02,\n",
            "         1.26593962e-01, -7.40194470e-02,  3.43869850e-02,\n",
            "         1.27436966e-01,  1.43271804e-01, -1.62752271e-02,\n",
            "        -5.05539104e-02],\n",
            "       [-6.08746745e-02,  4.33276333e-02,  3.51491682e-02,\n",
            "         5.45321032e-04, -2.39496548e-02,  2.08214819e-01,\n",
            "         8.09348151e-02,  1.64146051e-01, -6.36052899e-03,\n",
            "         1.01214368e-02],\n",
            "       [-3.36978771e-02, -6.34228736e-02,  4.08195294e-02,\n",
            "         8.23802352e-02, -2.87293755e-02,  1.05839521e-01,\n",
            "         1.14583917e-01,  1.49165452e-01, -9.81746987e-03,\n",
            "         8.83289799e-03],\n",
            "       [-5.96584752e-04, -3.90731022e-02,  3.65151688e-02,\n",
            "         2.11510435e-02, -1.52804367e-02,  9.43433791e-02,\n",
            "         3.80473994e-02,  1.40410841e-01, -5.12092821e-02,\n",
            "         2.40336992e-02],\n",
            "       [ 2.00507976e-02, -9.00454819e-04,  1.67735256e-02,\n",
            "         1.02969244e-01,  9.56274755e-03,  1.53070003e-01,\n",
            "         8.51816982e-02,  7.22223669e-02, -1.94434859e-02,\n",
            "        -3.18980291e-02],\n",
            "       [-2.60884464e-02,  4.37730178e-02,  1.49548873e-02,\n",
            "         6.02360070e-02, -4.99340799e-03,  1.86375752e-01,\n",
            "         8.62815827e-02,  5.72891757e-02, -3.39406878e-02,\n",
            "         8.43681954e-03],\n",
            "       [ 3.76237519e-02,  3.58204395e-02, -2.51049548e-03,\n",
            "         5.78306913e-02, -2.77673956e-02,  1.07389227e-01,\n",
            "         4.84827831e-02,  9.97620076e-02,  4.60009873e-02,\n",
            "         2.74310485e-02],\n",
            "       [ 4.69261594e-02,  1.71279907e-02,  1.66807488e-01,\n",
            "         1.51502907e-01,  9.12101269e-02,  6.29936755e-02,\n",
            "         1.21600911e-01,  8.47171918e-02,  8.34798664e-02,\n",
            "         3.21236141e-02],\n",
            "       [ 2.98981965e-02, -3.65945473e-02,  5.67919388e-03,\n",
            "        -1.85661428e-02,  1.37291383e-03,  7.67073259e-02,\n",
            "         8.79205912e-02,  1.14209816e-01,  4.05393466e-02,\n",
            "        -1.09679196e-02],\n",
            "       [ 4.86803725e-02,  4.01057340e-02,  8.15344676e-02,\n",
            "         4.06020060e-02, -6.27060086e-02,  5.25693111e-02,\n",
            "         5.91212809e-02,  2.62009036e-02, -5.34525234e-03,\n",
            "         7.11415559e-02],\n",
            "       [ 1.51807815e-03,  3.59597094e-02,  1.42206460e-01,\n",
            "         3.43637839e-02,  9.60074738e-03,  1.26710877e-01,\n",
            "         1.61359310e-01,  1.36330947e-01, -1.62417777e-02,\n",
            "         5.57024963e-03],\n",
            "       [ 4.12434004e-02,  2.20824182e-02,  5.53664342e-02,\n",
            "        -4.98188287e-03, -3.34658697e-02,  6.47729486e-02,\n",
            "         5.83485365e-02,  9.63172764e-02,  1.04398862e-01,\n",
            "         5.27322739e-02],\n",
            "       [-6.23055175e-03, -6.16450235e-02,  2.41220966e-02,\n",
            "         1.10724196e-02, -6.32109344e-02,  7.45859668e-02,\n",
            "         8.20346922e-02,  1.58503428e-01,  4.23759036e-03,\n",
            "         1.73809044e-02],\n",
            "       [-2.62794271e-02, -1.57320332e-02,  6.85712546e-02,\n",
            "         5.62462956e-02,  2.23526452e-02,  1.11716717e-01,\n",
            "         9.77163464e-02,  1.36456609e-01, -3.28490362e-02,\n",
            "         6.24273624e-03],\n",
            "       [-6.27080947e-02,  2.18788851e-02,  1.04492225e-01,\n",
            "         8.65437090e-03, -2.97186207e-02,  1.13694467e-01,\n",
            "         9.23891217e-02,  1.49371475e-01,  1.63843818e-02,\n",
            "         2.75792517e-02],\n",
            "       [-9.13792253e-02, -3.19423676e-02,  9.69284624e-02,\n",
            "         1.40023023e-01, -2.89093852e-02,  1.05741665e-01,\n",
            "         1.74138471e-01,  1.02260239e-01, -5.85825294e-02,\n",
            "        -3.45348194e-02],\n",
            "       [-2.13004015e-02, -2.45219190e-03,  9.41261798e-02,\n",
            "         5.86797558e-02, -5.41914143e-02,  5.30237556e-02,\n",
            "         1.20002955e-01,  1.66297004e-01,  1.45659856e-02,\n",
            "        -5.24841771e-02],\n",
            "       [ 6.47587627e-02,  1.20456442e-02,  5.14687300e-02,\n",
            "         3.84928919e-02, -6.70623314e-03,  1.23285279e-01,\n",
            "         1.49147093e-01,  1.38844162e-01,  5.79660907e-02,\n",
            "         1.97069310e-02],\n",
            "       [ 1.26494467e-03,  2.25981027e-02,  1.26910299e-01,\n",
            "         1.78405836e-01, -4.51863781e-02,  7.18595684e-02,\n",
            "         8.51810426e-02,  1.24634847e-01, -7.63473958e-02,\n",
            "        -4.09637205e-03],\n",
            "       [-9.33559239e-03,  3.13307792e-02,  7.15555698e-02,\n",
            "         1.98820174e-01,  3.80532220e-02,  1.04354784e-01,\n",
            "         1.65041357e-01,  3.65484208e-02,  3.17321457e-02,\n",
            "        -2.08276883e-02],\n",
            "       [-7.17150569e-02, -2.93423757e-02,  1.95183426e-01,\n",
            "         9.20683071e-02, -1.40946805e-01, -2.44748089e-02,\n",
            "         1.47337139e-01,  1.03091702e-01, -2.37431005e-02,\n",
            "         3.96038741e-02],\n",
            "       [-4.06643227e-02, -1.89740658e-02,  1.58270508e-01,\n",
            "         1.55497491e-01,  4.16950211e-02,  7.83813894e-02,\n",
            "         8.01102370e-02,  1.54492572e-01, -5.59533089e-02,\n",
            "        -2.40190271e-02],\n",
            "       [ 6.77378476e-02,  4.79034856e-02,  1.11242700e-02,\n",
            "         2.30558198e-02,  1.14478655e-02,  5.58684245e-02,\n",
            "         3.42672914e-02,  1.18558422e-01,  5.84385581e-02,\n",
            "         1.33352904e-02],\n",
            "       [-7.63052702e-03, -3.45071815e-02,  1.15182400e-01,\n",
            "         4.37646843e-02, -8.66880193e-02, -1.92443747e-02,\n",
            "         1.11360058e-01,  7.15051889e-02, -2.80359946e-02,\n",
            "         2.46898718e-02]], dtype=float32)>}\n"
          ],
          "name": "stdout"
        }
      ]
    },
    {
      "cell_type": "code",
      "metadata": {
        "id": "IcjtaCz1vpVf",
        "colab_type": "code",
        "colab": {
          "base_uri": "https://localhost:8080/",
          "height": 245
        },
        "outputId": "01b24995-0ab8-4a81-821a-4d71c9526d02"
      },
      "source": [
        "another_strategy = tf.distribute.MirroredStrategy()\n",
        "with another_strategy.scope():\n",
        "  loaded = tf.saved_model.load(saved_model_path)\n",
        "  inference_func = loaded.signatures[DEFAULT_FUNCTION_KEY]\n",
        "\n",
        "  dist_predict_dataset = another_strategy.experimental_distribute_dataset(predict_dataset)\n",
        "\n",
        "  for batch in dist_predict_dataset:\n",
        "    another_strategy.run(inference_func, args=(batch,))"
      ],
      "execution_count": 12,
      "outputs": [
        {
          "output_type": "stream",
          "text": [
            "INFO:tensorflow:Using MirroredStrategy with devices ('/job:localhost/replica:0/task:0/device:GPU:0',)\n"
          ],
          "name": "stdout"
        },
        {
          "output_type": "stream",
          "text": [
            "INFO:tensorflow:Using MirroredStrategy with devices ('/job:localhost/replica:0/task:0/device:GPU:0',)\n"
          ],
          "name": "stderr"
        },
        {
          "output_type": "stream",
          "text": [
            "WARNING:tensorflow:Using MirroredStrategy eagerly has significant overhead currently. We will be working on improving this in the future, but for now please wrap `call_for_each_replica` or `experimental_run` or `run` inside a tf.function to get the best performance.\n"
          ],
          "name": "stdout"
        },
        {
          "output_type": "stream",
          "text": [
            "WARNING:tensorflow:Using MirroredStrategy eagerly has significant overhead currently. We will be working on improving this in the future, but for now please wrap `call_for_each_replica` or `experimental_run` or `run` inside a tf.function to get the best performance.\n"
          ],
          "name": "stderr"
        },
        {
          "output_type": "stream",
          "text": [
            "WARNING:tensorflow:Using MirroredStrategy eagerly has significant overhead currently. We will be working on improving this in the future, but for now please wrap `call_for_each_replica` or `experimental_run` or `run` inside a tf.function to get the best performance.\n"
          ],
          "name": "stdout"
        },
        {
          "output_type": "stream",
          "text": [
            "WARNING:tensorflow:Using MirroredStrategy eagerly has significant overhead currently. We will be working on improving this in the future, but for now please wrap `call_for_each_replica` or `experimental_run` or `run` inside a tf.function to get the best performance.\n"
          ],
          "name": "stderr"
        },
        {
          "output_type": "stream",
          "text": [
            "WARNING:tensorflow:Using MirroredStrategy eagerly has significant overhead currently. We will be working on improving this in the future, but for now please wrap `call_for_each_replica` or `experimental_run` or `run` inside a tf.function to get the best performance.\n"
          ],
          "name": "stdout"
        },
        {
          "output_type": "stream",
          "text": [
            "WARNING:tensorflow:Using MirroredStrategy eagerly has significant overhead currently. We will be working on improving this in the future, but for now please wrap `call_for_each_replica` or `experimental_run` or `run` inside a tf.function to get the best performance.\n"
          ],
          "name": "stderr"
        },
        {
          "output_type": "stream",
          "text": [
            "WARNING:tensorflow:Using MirroredStrategy eagerly has significant overhead currently. We will be working on improving this in the future, but for now please wrap `call_for_each_replica` or `experimental_run` or `run` inside a tf.function to get the best performance.\n"
          ],
          "name": "stdout"
        },
        {
          "output_type": "stream",
          "text": [
            "WARNING:tensorflow:Using MirroredStrategy eagerly has significant overhead currently. We will be working on improving this in the future, but for now please wrap `call_for_each_replica` or `experimental_run` or `run` inside a tf.function to get the best performance.\n"
          ],
          "name": "stderr"
        },
        {
          "output_type": "stream",
          "text": [
            "WARNING:tensorflow:Using MirroredStrategy eagerly has significant overhead currently. We will be working on improving this in the future, but for now please wrap `call_for_each_replica` or `experimental_run` or `run` inside a tf.function to get the best performance.\n"
          ],
          "name": "stdout"
        },
        {
          "output_type": "stream",
          "text": [
            "WARNING:tensorflow:Using MirroredStrategy eagerly has significant overhead currently. We will be working on improving this in the future, but for now please wrap `call_for_each_replica` or `experimental_run` or `run` inside a tf.function to get the best performance.\n"
          ],
          "name": "stderr"
        }
      ]
    },
    {
      "cell_type": "code",
      "metadata": {
        "id": "9yRXGtPNv-iQ",
        "colab_type": "code",
        "colab": {
          "base_uri": "https://localhost:8080/",
          "height": 190
        },
        "outputId": "091a303c-74e2-45f5-b0b3-3f4b7e6dcae2"
      },
      "source": [
        "import tensorflow_hub as hub\n",
        "\n",
        "def build_model(loaded):\n",
        "  x = tf.keras.layers.Input(shape=(28,28,1), name=\"input_x\")\n",
        "\n",
        "  keras_layer = hub.KerasLayer(loaded, trainable=True)(x)\n",
        "  model = tf.keras.Model(x, keras_layer)\n",
        "  return model\n",
        "\n",
        "another_strategy = tf.distribute.MirroredStrategy()\n",
        "with another_strategy.scope():\n",
        "  loaded = tf.saved_model.load(saved_model_path)\n",
        "  model = build_model(loaded)\n",
        "\n",
        "  model.compile(loss=tf.keras.losses.SparseCategoricalCrossentropy(from_logits=True),\n",
        "                optimizer=tf.keras.optimizers.Adam(),\n",
        "                metrics=[\"accuracy\"])\n",
        "  model.fit(train_dataset, epochs=2)"
      ],
      "execution_count": 13,
      "outputs": [
        {
          "output_type": "stream",
          "text": [
            "INFO:tensorflow:Using MirroredStrategy with devices ('/job:localhost/replica:0/task:0/device:GPU:0',)\n"
          ],
          "name": "stdout"
        },
        {
          "output_type": "stream",
          "text": [
            "INFO:tensorflow:Using MirroredStrategy with devices ('/job:localhost/replica:0/task:0/device:GPU:0',)\n"
          ],
          "name": "stderr"
        },
        {
          "output_type": "stream",
          "text": [
            "Epoch 1/2\n",
            "INFO:tensorflow:Reduce to /job:localhost/replica:0/task:0/device:CPU:0 then broadcast to ('/job:localhost/replica:0/task:0/device:CPU:0',).\n"
          ],
          "name": "stdout"
        },
        {
          "output_type": "stream",
          "text": [
            "INFO:tensorflow:Reduce to /job:localhost/replica:0/task:0/device:CPU:0 then broadcast to ('/job:localhost/replica:0/task:0/device:CPU:0',).\n"
          ],
          "name": "stderr"
        },
        {
          "output_type": "stream",
          "text": [
            "INFO:tensorflow:Reduce to /job:localhost/replica:0/task:0/device:CPU:0 then broadcast to ('/job:localhost/replica:0/task:0/device:CPU:0',).\n"
          ],
          "name": "stdout"
        },
        {
          "output_type": "stream",
          "text": [
            "INFO:tensorflow:Reduce to /job:localhost/replica:0/task:0/device:CPU:0 then broadcast to ('/job:localhost/replica:0/task:0/device:CPU:0',).\n"
          ],
          "name": "stderr"
        },
        {
          "output_type": "stream",
          "text": [
            "938/938 [==============================] - 3s 3ms/step - accuracy: 0.9422 - loss: 0.2000\n",
            "Epoch 2/2\n",
            "938/938 [==============================] - 3s 3ms/step - accuracy: 0.9817 - loss: 0.0616\n"
          ],
          "name": "stdout"
        }
      ]
    },
    {
      "cell_type": "code",
      "metadata": {
        "id": "8zG9QpXiwrWa",
        "colab_type": "code",
        "colab": {
          "base_uri": "https://localhost:8080/",
          "height": 86
        },
        "outputId": "ed91261c-ce88-47f0-d2a6-451fe3e384df"
      },
      "source": [
        "model = get_model()\n",
        "\n",
        "model.save(keras_model_path)\n",
        "\n",
        "another_strategy = tf.distribute.MirroredStrategy()\n",
        "\n",
        "with another_strategy.scope():\n",
        "  loaded = tf.saved_model.load(keras_model_path)"
      ],
      "execution_count": 14,
      "outputs": [
        {
          "output_type": "stream",
          "text": [
            "INFO:tensorflow:Assets written to: tmp/keras_save/assets\n"
          ],
          "name": "stdout"
        },
        {
          "output_type": "stream",
          "text": [
            "INFO:tensorflow:Assets written to: tmp/keras_save/assets\n"
          ],
          "name": "stderr"
        },
        {
          "output_type": "stream",
          "text": [
            "INFO:tensorflow:Using MirroredStrategy with devices ('/job:localhost/replica:0/task:0/device:GPU:0',)\n"
          ],
          "name": "stdout"
        },
        {
          "output_type": "stream",
          "text": [
            "INFO:tensorflow:Using MirroredStrategy with devices ('/job:localhost/replica:0/task:0/device:GPU:0',)\n"
          ],
          "name": "stderr"
        }
      ]
    },
    {
      "cell_type": "code",
      "metadata": {
        "id": "CFMsVa-0xaX8",
        "colab_type": "code",
        "colab": {
          "base_uri": "https://localhost:8080/",
          "height": 141
        },
        "outputId": "42e1bc0b-afea-4b64-845e-0efac93fd17b"
      },
      "source": [
        "class SubclassedModel(tf.keras.Model):\n",
        "  \n",
        "  output_name = \"output_layer\"\n",
        "\n",
        "  def __init__(self):\n",
        "    super(SubclassedModel, self).__init__()\n",
        "    self._dense_layer = tf.keras.layers.Dense(5, dtype=tf.dtypes.float32, name=self.output_name)\n",
        "  \n",
        "  def call(self, inputs):\n",
        "    return self._dense_layer(inputs)\n",
        "\n",
        "my_model = SubclassedModel()\n",
        "\n",
        "tf.saved_model.save(my_model, saved_model_path)"
      ],
      "execution_count": 15,
      "outputs": [
        {
          "output_type": "stream",
          "text": [
            "WARNING:tensorflow:Skipping full serialization of Keras layer <__main__.SubclassedModel object at 0x7f9b992ed208>, because it is not built.\n"
          ],
          "name": "stdout"
        },
        {
          "output_type": "stream",
          "text": [
            "WARNING:tensorflow:Skipping full serialization of Keras layer <__main__.SubclassedModel object at 0x7f9b992ed208>, because it is not built.\n"
          ],
          "name": "stderr"
        },
        {
          "output_type": "stream",
          "text": [
            "WARNING:tensorflow:Skipping full serialization of Keras layer <tensorflow.python.keras.layers.core.Dense object at 0x7f9b98559f60>, because it is not built.\n"
          ],
          "name": "stdout"
        },
        {
          "output_type": "stream",
          "text": [
            "WARNING:tensorflow:Skipping full serialization of Keras layer <tensorflow.python.keras.layers.core.Dense object at 0x7f9b98559f60>, because it is not built.\n"
          ],
          "name": "stderr"
        },
        {
          "output_type": "stream",
          "text": [
            "INFO:tensorflow:Assets written to: tmp/tf_save/assets\n"
          ],
          "name": "stdout"
        },
        {
          "output_type": "stream",
          "text": [
            "INFO:tensorflow:Assets written to: tmp/tf_save/assets\n"
          ],
          "name": "stderr"
        }
      ]
    },
    {
      "cell_type": "code",
      "metadata": {
        "id": "B40Sd5nCzP3e",
        "colab_type": "code",
        "colab": {}
      },
      "source": [
        ""
      ],
      "execution_count": null,
      "outputs": []
    }
  ]
}